{
 "cells": [
  {
   "cell_type": "code",
   "execution_count": 1,
   "metadata": {
    "collapsed": true
   },
   "outputs": [],
   "source": [
    "import pymc\n",
    "import numpy as np\n",
    "import pandas as pd\n",
    "import matplotlib.pyplot as plt\n",
    "%matplotlib inline\n"
   ]
  },
  {
   "cell_type": "code",
   "execution_count": null,
   "metadata": {
    "collapsed": true
   },
   "outputs": [],
   "source": [
    "# Some data\n",
    "n = 5 * np.ones(4, dtype=int)\n",
    "x = np.array([-.86, -.3, -.05, .73])\n",
    "\n",
    "# Priors on unknown parameters\n",
    "alpha = pymc.Normal('alpha', mu=0, tau=.01)\n",
    "beta = pymc.Normal('beta', mu=0, tau=.01)\n",
    "\n",
    "# Arbitrary deterministic function of parameters\n",
    "@pymc.deterministic\n",
    "def theta(a=alpha, b=beta):\n",
    "    \"\"\"theta = logit^{-1}(a+b)\"\"\"\n",
    "    return pymc.invlogit(a + b * x)\n",
    "\n",
    "# Binomial likelihood for data\n",
    "d = pymc.Binomial('d', n=n, p=theta, value=np.array([0., 1., 3., 5.]),\n",
    "                  observed=True)"
   ]
  },
  {
   "cell_type": "code",
   "execution_count": null,
   "metadata": {
    "collapsed": false
   },
   "outputs": [],
   "source": [
    "from scipy.stats import beta\n",
    "a, b = 1, 80\n",
    "\n",
    "x = np.linspace(beta.ppf(0.01, a, b),beta.ppf(0.99, a, b), 100)\n",
    "plt.plot(x, beta.pdf(x, a, b),          'r-', lw=5, alpha=0.6, label='beta pdf')\n",
    "plt.yscale('log')"
   ]
  },
  {
   "cell_type": "code",
   "execution_count": 8,
   "metadata": {
    "collapsed": true
   },
   "outputs": [],
   "source": [
    "# data\n",
    "ploidy = 4\n",
    "total_depth = 16\n",
    "a1_depth = 12\n",
    "# chance you got it WRONG\n",
    "epsilon = 0.01\n",
    "\n",
    "# genotype is count of a1\n",
    "a1 = pymc.DiscreteUniform('a1_genotype', 0, ploidy)\n",
    "# put a prior on the error rate\n",
    "#epsilon = pymc.Beta('epsilon', 1, 80)\n",
    "# population freq\n",
    "#pop_freq = pymc.Beta('pop_freq', 1, 1)\n",
    "\n",
    "# probability each read is a1\n",
    "@pymc.stochastic\n",
    "def p1_ind(value = .5 ):\n",
    "    \n",
    "\n",
    "\n",
    "p1_ind = a1/np.float(ploidy)\n",
    "# account for error\n",
    "p1_ind = p1_ind - (p1_ind*epsilon) + (1-p1_ind)*epsilon\n",
    "\n",
    "d = pymc.Binomial('d', n=total_depth, p = p1_ind, \n",
    "                  value = 3,\n",
    "                  observed = True)"
   ]
  },
  {
   "cell_type": "code",
   "execution_count": 9,
   "metadata": {
    "collapsed": false
   },
   "outputs": [
    {
     "name": "stdout",
     "output_type": "stream",
     "text": [
      " [-----------------100%-----------------] 100000 of 100000 complete in 9.8 sec"
     ]
    }
   ],
   "source": [
    "model1 = dict(a1=a1, d=d, epsilon=epsilon, p1_ind=p1_ind)\n",
    "S = pymc.MCMC(model1)\n",
    "S.sample(iter=100000, burn=500)"
   ]
  },
  {
   "cell_type": "code",
   "execution_count": 10,
   "metadata": {
    "collapsed": false
   },
   "outputs": [
    {
     "name": "stdout",
     "output_type": "stream",
     "text": [
      "Plotting a1_genotype\n"
     ]
    },
    {
     "data": {
      "image/png": "[encoded data removed]",
      "text/plain": [
       "<matplotlib.figure.Figure at 0x2269c5c0>"
      ]
     },
     "metadata": {},
     "output_type": "display_data"
    },
    {
     "data": {
      "image/png": "[encoded data removed]",
      "text/plain": [
       "<matplotlib.figure.Figure at 0x21786780>"
      ]
     },
     "metadata": {},
     "output_type": "display_data"
    },
    {
     "ename": "KeyError",
     "evalue": "'p1_ind'",
     "output_type": "error",
     "traceback": [
      "\u001b[1;31m---------------------------------------------------------------------------\u001b[0m",
      "\u001b[1;31mKeyError\u001b[0m                                  Traceback (most recent call last)",
      "\u001b[1;32m<ipython-input-10-37e64a21baa6>\u001b[0m in \u001b[0;36m<module>\u001b[1;34m()\u001b[0m\n\u001b[0;32m      3\u001b[0m \u001b[0mplt\u001b[0m\u001b[1;33m.\u001b[0m\u001b[0mhist\u001b[0m\u001b[1;33m(\u001b[0m\u001b[0mS\u001b[0m\u001b[1;33m.\u001b[0m\u001b[0mtrace\u001b[0m\u001b[1;33m(\u001b[0m\u001b[1;34m'a1_genotype'\u001b[0m\u001b[1;33m)\u001b[0m\u001b[1;33m[\u001b[0m\u001b[1;33m:\u001b[0m\u001b[1;33m]\u001b[0m\u001b[1;33m)\u001b[0m\u001b[1;33m\u001b[0m\u001b[0m\n\u001b[0;32m      4\u001b[0m \u001b[0mplt\u001b[0m\u001b[1;33m.\u001b[0m\u001b[0mshow\u001b[0m\u001b[1;33m(\u001b[0m\u001b[1;33m)\u001b[0m\u001b[1;33m\u001b[0m\u001b[0m\n\u001b[1;32m----> 5\u001b[1;33m \u001b[0mplt\u001b[0m\u001b[1;33m.\u001b[0m\u001b[0mhist\u001b[0m\u001b[1;33m(\u001b[0m\u001b[0mS\u001b[0m\u001b[1;33m.\u001b[0m\u001b[0mtrace\u001b[0m\u001b[1;33m(\u001b[0m\u001b[1;34m'p1_ind'\u001b[0m\u001b[1;33m)\u001b[0m\u001b[1;33m[\u001b[0m\u001b[1;33m:\u001b[0m\u001b[1;33m]\u001b[0m\u001b[1;33m)\u001b[0m\u001b[1;33m\u001b[0m\u001b[0m\n\u001b[0m\u001b[0;32m      6\u001b[0m \u001b[0mplt\u001b[0m\u001b[1;33m.\u001b[0m\u001b[0mshow\u001b[0m\u001b[1;33m(\u001b[0m\u001b[1;33m)\u001b[0m\u001b[1;33m\u001b[0m\u001b[0m\n\u001b[0;32m      7\u001b[0m \u001b[0mplt\u001b[0m\u001b[1;33m.\u001b[0m\u001b[0mhist\u001b[0m\u001b[1;33m(\u001b[0m\u001b[0mS\u001b[0m\u001b[1;33m.\u001b[0m\u001b[0mtrace\u001b[0m\u001b[1;33m(\u001b[0m\u001b[1;34m'epsilon'\u001b[0m\u001b[1;33m)\u001b[0m\u001b[1;33m[\u001b[0m\u001b[1;33m:\u001b[0m\u001b[1;33m]\u001b[0m\u001b[1;33m)\u001b[0m\u001b[1;33m\u001b[0m\u001b[0m\n",
      "\u001b[1;32mC:\\Users\\Ryan\\Anaconda\\lib\\site-packages\\pymc\\Model.pyc\u001b[0m in \u001b[0;36mtrace\u001b[1;34m(self, name, chain)\u001b[0m\n\u001b[0;32m    838\u001b[0m         \"\"\"\n\u001b[0;32m    839\u001b[0m         \u001b[1;32mif\u001b[0m \u001b[0misinstance\u001b[0m\u001b[1;33m(\u001b[0m\u001b[0mname\u001b[0m\u001b[1;33m,\u001b[0m \u001b[0mstr\u001b[0m\u001b[1;33m)\u001b[0m\u001b[1;33m:\u001b[0m\u001b[1;33m\u001b[0m\u001b[0m\n\u001b[1;32m--> 840\u001b[1;33m             \u001b[1;32mreturn\u001b[0m \u001b[0mself\u001b[0m\u001b[1;33m.\u001b[0m\u001b[0mdb\u001b[0m\u001b[1;33m.\u001b[0m\u001b[0mtrace\u001b[0m\u001b[1;33m(\u001b[0m\u001b[0mname\u001b[0m\u001b[1;33m,\u001b[0m \u001b[0mchain\u001b[0m\u001b[1;33m)\u001b[0m\u001b[1;33m\u001b[0m\u001b[0m\n\u001b[0m\u001b[0;32m    841\u001b[0m         \u001b[1;32melif\u001b[0m \u001b[0misinstance\u001b[0m\u001b[1;33m(\u001b[0m\u001b[0mname\u001b[0m\u001b[1;33m,\u001b[0m \u001b[0mVariable\u001b[0m\u001b[1;33m)\u001b[0m\u001b[1;33m:\u001b[0m\u001b[1;33m\u001b[0m\u001b[0m\n\u001b[0;32m    842\u001b[0m             \u001b[1;32mreturn\u001b[0m \u001b[0mself\u001b[0m\u001b[1;33m.\u001b[0m\u001b[0mdb\u001b[0m\u001b[1;33m.\u001b[0m\u001b[0mtrace\u001b[0m\u001b[1;33m(\u001b[0m\u001b[0mname\u001b[0m\u001b[1;33m.\u001b[0m\u001b[0m__name__\u001b[0m\u001b[1;33m,\u001b[0m \u001b[0mchain\u001b[0m\u001b[1;33m)\u001b[0m\u001b[1;33m\u001b[0m\u001b[0m\n",
      "\u001b[1;32mC:\\Users\\Ryan\\Anaconda\\lib\\site-packages\\pymc\\database\\base.pyc\u001b[0m in \u001b[0;36mtrace\u001b[1;34m(self, name, chain)\u001b[0m\n\u001b[0;32m    371\u001b[0m           \u001b[0mthe\u001b[0m \u001b[0mith\u001b[0m \u001b[0mcall\u001b[0m \u001b[0mto\u001b[0m \u001b[1;33m`\u001b[0m\u001b[0msample\u001b[0m\u001b[1;33m`\u001b[0m\u001b[1;33m.\u001b[0m\u001b[1;33m\u001b[0m\u001b[0m\n\u001b[0;32m    372\u001b[0m         \"\"\"\n\u001b[1;32m--> 373\u001b[1;33m         \u001b[0mtrace\u001b[0m \u001b[1;33m=\u001b[0m \u001b[0mcopy\u001b[0m\u001b[1;33m.\u001b[0m\u001b[0mcopy\u001b[0m\u001b[1;33m(\u001b[0m\u001b[0mself\u001b[0m\u001b[1;33m.\u001b[0m\u001b[0m_traces\u001b[0m\u001b[1;33m[\u001b[0m\u001b[0mname\u001b[0m\u001b[1;33m]\u001b[0m\u001b[1;33m)\u001b[0m\u001b[1;33m\u001b[0m\u001b[0m\n\u001b[0m\u001b[0;32m    374\u001b[0m         \u001b[0mtrace\u001b[0m\u001b[1;33m.\u001b[0m\u001b[0m_chain\u001b[0m \u001b[1;33m=\u001b[0m \u001b[0mchain\u001b[0m\u001b[1;33m\u001b[0m\u001b[0m\n\u001b[0;32m    375\u001b[0m         \u001b[1;32mreturn\u001b[0m \u001b[0mtrace\u001b[0m\u001b[1;33m\u001b[0m\u001b[0m\n",
      "\u001b[1;31mKeyError\u001b[0m: 'p1_ind'"
     ]
    }
   ],
   "source": [
    "pymc.Matplot.plot(S)\n",
    "plt.show()\n",
    "plt.hist(S.trace('a1_genotype')[:])\n",
    "plt.show()\n",
    "plt.hist(S.trace('p1_ind')[:])\n",
    "plt.show()\n",
    "plt.hist(S.trace('epsilon')[:])\n",
    "plt.show()"
   ]
  },
  {
   "cell_type": "code",
   "execution_count": 15,
   "metadata": {
    "collapsed": false
   },
   "outputs": [
    {
     "ename": "SyntaxError",
     "evalue": "invalid syntax (<ipython-input-15-24d8d231d49b>, line 20)",
     "output_type": "error",
     "traceback": [
      "\u001b[1;36m  File \u001b[1;32m\"<ipython-input-15-24d8d231d49b>\"\u001b[1;36m, line \u001b[1;32m20\u001b[0m\n\u001b[1;33m    def a1(.5, ploidy, pop_freq):\u001b[0m\n\u001b[1;37m            ^\u001b[0m\n\u001b[1;31mSyntaxError\u001b[0m\u001b[1;31m:\u001b[0m invalid syntax\n"
     ]
    }
   ],
   "source": [
    "# data\n",
    "ploidy = 4\n",
    "total_depth = 16\n",
    "a1_depth = 8\n",
    "# chance you got it WRONG\n",
    "epsilon = 0.01\n",
    "\n",
    "@pymc.stochastic(observed=False)\n",
    "def a1(value=1, ploidy = ploidy, pop_freq = pop_freq):\n",
    "    return pymc.distributions.binomial_like(value, n=ploidy, p=pop_freq)\n",
    "\n",
    "# genotype is count of a1\n",
    "#a1 = pymc.Binomial('a1_genotype', ploiyd, pop_freq)\n",
    "# put a prior on the error rate\n",
    "#epsilon = pymc.Beta('epsilon', 1, 80)\n",
    "# population freq\n",
    "#pop_freq = pymc.Beta('pop_freq', 1, 1)\n",
    "\n",
    "@pymc.deterministic\n",
    "def a1(value = .5, ploidy = ploidy, pop_freq = pop_freq):\n",
    "    p1_ind = a1/np.float(ploidy)\n",
    "    # account for error\n",
    "    p1_ind = p1_ind - (p1_ind*epsilon) + (1-p1_ind)*epsilon\n",
    "    return p1_ind\n",
    "\n",
    "# probability each read is a1\n",
    "p1_ind = a1/np.float(ploidy)\n",
    "# account for error\n",
    "p1_ind = p1_ind - (p1_ind*epsilon) + (1-p1_ind)*epsilon\n",
    "\n",
    "\n",
    "d = pymc.Binomial('d', n=total_depth[1], p = p1_ind, \n",
    "                  value = ploidy/2,\n",
    "                  observed = True)\n",
    "\n",
    "model1 = dict(a1=a1, d=d, epsilon=epsilon, p1_ind=p1_ind)\n",
    "S = pymc.MCMC(model1)\n",
    "S.sample(iter=100000, burn=500)"
   ]
  },
  {
   "cell_type": "code",
   "execution_count": null,
   "metadata": {
    "collapsed": false
   },
   "outputs": [],
   "source": [
    "pymc.Matplot.plot(S)\n",
    "plt.show()\n",
    "plt.hist(S.trace('a1_genotype')[:])\n",
    "plt.show()\n",
    "plt.hist(S.trace('p1_ind')[:])\n",
    "plt.show()\n",
    "plt.hist(S.trace('epsilon')[:])\n",
    "plt.show()"
   ]
  },
  {
   "cell_type": "code",
   "execution_count": null,
   "metadata": {
    "collapsed": true
   },
   "outputs": [],
   "source": []
  },
  {
   "cell_type": "code",
   "execution_count": null,
   "metadata": {
    "collapsed": false
   },
   "outputs": [],
   "source": [
    "geno_dat = {'ploidy': 4,\n",
    "               'total_depth': 8,\n",
    "               'a1_depth': 3}"
   ]
  }
 ],
 "metadata": {
  "kernelspec": {
   "display_name": "Python 2",
   "language": "python",
   "name": "python2"
  },
  "language_info": {
   "codemirror_mode": {
    "name": "ipython",
    "version": 2
   },
   "file_extension": ".py",
   "mimetype": "text/x-python",
   "name": "python",
   "nbconvert_exporter": "python",
   "pygments_lexer": "ipython2",
   "version": "2.7.11"
  }
 },
 "nbformat": 4,
 "nbformat_minor": 0
}
