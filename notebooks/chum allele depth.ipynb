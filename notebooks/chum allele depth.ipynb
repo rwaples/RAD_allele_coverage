{
 "cells": [
  {
   "cell_type": "markdown",
   "metadata": {},
   "source": [
    "## Assessing allelic bias in RADseq data"
   ]
  },
  {
   "cell_type": "markdown",
   "metadata": {},
   "source": [
    "Can we identify 'bad' loci by looking at allelic bias in heterozygotes?"
   ]
  },
  {
   "cell_type": "code",
   "execution_count": 2,
   "metadata": {
    "collapsed": true
   },
   "outputs": [],
   "source": [
    "import scipy.stats\n",
    "import pandas as pd\n",
    "import numpy as np\n",
    "import matplotlib.pyplot as plt\n",
    "import seaborn as sns\n",
    "import statsmodels\n",
    "import numpy as np\n",
    "import os.path\n",
    "from IPython.core.pylabtools import figsize"
   ]
  },
  {
   "cell_type": "code",
   "execution_count": 3,
   "metadata": {
    "collapsed": true
   },
   "outputs": [],
   "source": [
    "%matplotlib inline"
   ]
  },
  {
   "cell_type": "markdown",
   "metadata": {},
   "source": [
    "### Create file of allelic depths"
   ]
  },
  {
   "cell_type": "code",
   "execution_count": 4,
   "metadata": {
    "collapsed": false
   },
   "outputs": [],
   "source": [
    "from  vcf_to_depth import vcf_to_allele_depth"
   ]
  },
  {
   "cell_type": "code",
   "execution_count": 5,
   "metadata": {
    "collapsed": true
   },
   "outputs": [],
   "source": [
    "vcf_file = os.path.join('..', 'data', 'chum.batch4.vcf.gz')\n",
    "depths_file = os.path.join('..', 'data', 'chum.batch4.depths')"
   ]
  },
  {
   "cell_type": "code",
   "execution_count": 6,
   "metadata": {
    "collapsed": false
   },
   "outputs": [
    {
     "name": "stdout",
     "output_type": "stream",
     "text": [
      "skipped 9 header lines\n",
      "found 200 individuals\n"
     ]
    }
   ],
   "source": [
    "vcf_to_allele_depth(vcf_file=vcf_file, out_file = depths_file)"
   ]
  },
  {
   "cell_type": "code",
   "execution_count": 7,
   "metadata": {
    "collapsed": false
   },
   "outputs": [
    {
     "data": {
      "text/html": [
       "<div>\n",
       "<table border=\"1\" class=\"dataframe\">\n",
       "  <thead>\n",
       "    <tr style=\"text-align: right;\">\n",
       "      <th></th>\n",
       "      <th>contig</th>\n",
       "      <th>pos</th>\n",
       "      <th>locus_ID</th>\n",
       "      <th>depth_a</th>\n",
       "      <th>depth_b</th>\n",
       "      <th>ratio</th>\n",
       "      <th>num_hets</th>\n",
       "      <th>total_depth</th>\n",
       "      <th>depth_per_het</th>\n",
       "    </tr>\n",
       "  </thead>\n",
       "  <tbody>\n",
       "    <tr>\n",
       "      <th>0</th>\n",
       "      <td>c1000</td>\n",
       "      <td>75</td>\n",
       "      <td>7</td>\n",
       "      <td>4191</td>\n",
       "      <td>5493</td>\n",
       "      <td>0.432776</td>\n",
       "      <td>186</td>\n",
       "      <td>9684</td>\n",
       "      <td>52.064516</td>\n",
       "    </tr>\n",
       "    <tr>\n",
       "      <th>1</th>\n",
       "      <td>c1000</td>\n",
       "      <td>93</td>\n",
       "      <td>7</td>\n",
       "      <td>3928</td>\n",
       "      <td>2422</td>\n",
       "      <td>0.618583</td>\n",
       "      <td>125</td>\n",
       "      <td>6350</td>\n",
       "      <td>50.800000</td>\n",
       "    </tr>\n",
       "    <tr>\n",
       "      <th>2</th>\n",
       "      <td>c10000</td>\n",
       "      <td>14</td>\n",
       "      <td>1</td>\n",
       "      <td>4346</td>\n",
       "      <td>5659</td>\n",
       "      <td>0.434383</td>\n",
       "      <td>177</td>\n",
       "      <td>10005</td>\n",
       "      <td>56.525424</td>\n",
       "    </tr>\n",
       "    <tr>\n",
       "      <th>3</th>\n",
       "      <td>c10000</td>\n",
       "      <td>18</td>\n",
       "      <td>1</td>\n",
       "      <td>5979</td>\n",
       "      <td>4122</td>\n",
       "      <td>0.591922</td>\n",
       "      <td>176</td>\n",
       "      <td>10101</td>\n",
       "      <td>57.392045</td>\n",
       "    </tr>\n",
       "    <tr>\n",
       "      <th>4</th>\n",
       "      <td>c10001</td>\n",
       "      <td>81</td>\n",
       "      <td>68651</td>\n",
       "      <td>1069</td>\n",
       "      <td>1053</td>\n",
       "      <td>0.503770</td>\n",
       "      <td>54</td>\n",
       "      <td>2122</td>\n",
       "      <td>39.296296</td>\n",
       "    </tr>\n",
       "  </tbody>\n",
       "</table>\n",
       "</div>"
      ],
      "text/plain": [
       "   contig  pos  locus_ID  depth_a  depth_b     ratio  num_hets  total_depth  \\\n",
       "0   c1000   75         7     4191     5493  0.432776       186         9684   \n",
       "1   c1000   93         7     3928     2422  0.618583       125         6350   \n",
       "2  c10000   14         1     4346     5659  0.434383       177        10005   \n",
       "3  c10000   18         1     5979     4122  0.591922       176        10101   \n",
       "4  c10001   81     68651     1069     1053  0.503770        54         2122   \n",
       "\n",
       "   depth_per_het  \n",
       "0      52.064516  \n",
       "1      50.800000  \n",
       "2      56.525424  \n",
       "3      57.392045  \n",
       "4      39.296296  "
      ]
     },
     "execution_count": 7,
     "metadata": {},
     "output_type": "execute_result"
    }
   ],
   "source": [
    "depths = pd.read_csv(depths_file, sep = '\\t', header = None)\n",
    "depths.columns = ['contig', 'pos', 'locus_ID', 'depth_a' , 'depth_b', 'ratio', 'num_hets']\n",
    "depths['total_depth'] = depths['depth_a'] + depths['depth_b']\n",
    "depths['depth_per_het'] = depths['total_depth']/[np.float(xx) for xx in depths['num_hets']]\n",
    "depths.head()"
   ]
  },
  {
   "cell_type": "code",
   "execution_count": 26,
   "metadata": {
    "collapsed": false
   },
   "outputs": [
    {
     "data": {
      "text/html": [
       "<div>\n",
       "<table border=\"1\" class=\"dataframe\">\n",
       "  <thead>\n",
       "    <tr style=\"text-align: right;\">\n",
       "      <th></th>\n",
       "      <th>catID</th>\n",
       "      <th>contig</th>\n",
       "    </tr>\n",
       "  </thead>\n",
       "  <tbody>\n",
       "    <tr>\n",
       "      <th>0</th>\n",
       "      <td>4</td>\n",
       "      <td>c4</td>\n",
       "    </tr>\n",
       "    <tr>\n",
       "      <th>1</th>\n",
       "      <td>5</td>\n",
       "      <td>c5</td>\n",
       "    </tr>\n",
       "    <tr>\n",
       "      <th>2</th>\n",
       "      <td>15</td>\n",
       "      <td>c15</td>\n",
       "    </tr>\n",
       "    <tr>\n",
       "      <th>3</th>\n",
       "      <td>26</td>\n",
       "      <td>c26</td>\n",
       "    </tr>\n",
       "    <tr>\n",
       "      <th>4</th>\n",
       "      <td>32</td>\n",
       "      <td>c32</td>\n",
       "    </tr>\n",
       "  </tbody>\n",
       "</table>\n",
       "</div>"
      ],
      "text/plain": [
       "   catID contig\n",
       "0      4     c4\n",
       "1      5     c5\n",
       "2     15    c15\n",
       "3     26    c26\n",
       "4     32    c32"
      ]
     },
     "execution_count": 26,
     "metadata": {},
     "output_type": "execute_result"
    }
   ],
   "source": [
    "paralogs = pd.read_csv(os.path.join('..', 'data', 'chum_paralogs.txt'), header = None)\n",
    "paralogs.columns = ['catID']\n",
    "paralogs['contig'] = ['c{}'.format(xx) for xx in paralogs['catID']]\n",
    "paralogs.head()"
   ]
  },
  {
   "cell_type": "code",
   "execution_count": 34,
   "metadata": {
    "collapsed": false
   },
   "outputs": [
    {
     "data": {
      "text/html": [
       "<div>\n",
       "<table border=\"1\" class=\"dataframe\">\n",
       "  <thead>\n",
       "    <tr style=\"text-align: right;\">\n",
       "      <th></th>\n",
       "      <th>LG</th>\n",
       "      <th>stacks_SNP</th>\n",
       "      <th>junk1</th>\n",
       "      <th>junk2</th>\n",
       "      <th>locus_ID</th>\n",
       "    </tr>\n",
       "  </thead>\n",
       "  <tbody>\n",
       "    <tr>\n",
       "      <th>0</th>\n",
       "      <td>1</td>\n",
       "      <td>8315_6</td>\n",
       "      <td>0</td>\n",
       "      <td>6</td>\n",
       "      <td>8315</td>\n",
       "    </tr>\n",
       "    <tr>\n",
       "      <th>1</th>\n",
       "      <td>1</td>\n",
       "      <td>36304_6</td>\n",
       "      <td>0</td>\n",
       "      <td>6</td>\n",
       "      <td>36304</td>\n",
       "    </tr>\n",
       "    <tr>\n",
       "      <th>2</th>\n",
       "      <td>1</td>\n",
       "      <td>41478_6</td>\n",
       "      <td>0</td>\n",
       "      <td>6</td>\n",
       "      <td>41478</td>\n",
       "    </tr>\n",
       "    <tr>\n",
       "      <th>3</th>\n",
       "      <td>1</td>\n",
       "      <td>6516_7</td>\n",
       "      <td>0</td>\n",
       "      <td>7</td>\n",
       "      <td>6516</td>\n",
       "    </tr>\n",
       "    <tr>\n",
       "      <th>4</th>\n",
       "      <td>1</td>\n",
       "      <td>41929_7</td>\n",
       "      <td>0</td>\n",
       "      <td>7</td>\n",
       "      <td>41929</td>\n",
       "    </tr>\n",
       "  </tbody>\n",
       "</table>\n",
       "</div>"
      ],
      "text/plain": [
       "   LG stacks_SNP  junk1  junk2  locus_ID\n",
       "0   1     8315_6      0      6      8315\n",
       "1   1    36304_6      0      6     36304\n",
       "2   1    41478_6      0      6     41478\n",
       "3   1     6516_7      0      7      6516\n",
       "4   1    41929_7      0      7     41929"
      ]
     },
     "execution_count": 34,
     "metadata": {},
     "output_type": "execute_result"
    }
   ],
   "source": [
    "mapped_non_paralogs = pd.read_csv(os.path.join('..', 'data', 'chum_mapped_non_paralogs.map'), sep = '\\t', header = None)\n",
    "mapped_non_paralogs.columns = ['LG', 'stacks_SNP', 'junk1', 'junk2']\n",
    "mapped_non_paralogs['locus_ID'] = [int(xx.split('_')[0]) for xx in mapped_non_paralogs['stacks_SNP']]\n",
    "mapped_non_paralogs.head()"
   ]
  },
  {
   "cell_type": "code",
   "execution_count": 42,
   "metadata": {
    "collapsed": false
   },
   "outputs": [
    {
     "data": {
      "text/html": [
       "<div>\n",
       "<table border=\"1\" class=\"dataframe\">\n",
       "  <thead>\n",
       "    <tr style=\"text-align: right;\">\n",
       "      <th></th>\n",
       "      <th>LG</th>\n",
       "      <th>stacks_SNP</th>\n",
       "      <th>junk1</th>\n",
       "      <th>junk2</th>\n",
       "      <th>locus_ID</th>\n",
       "      <th>contig</th>\n",
       "      <th>pos</th>\n",
       "      <th>depth_a</th>\n",
       "      <th>depth_b</th>\n",
       "      <th>ratio</th>\n",
       "      <th>num_hets</th>\n",
       "      <th>total_depth</th>\n",
       "      <th>depth_per_het</th>\n",
       "      <th>std</th>\n",
       "      <th>z</th>\n",
       "    </tr>\n",
       "  </thead>\n",
       "  <tbody>\n",
       "    <tr>\n",
       "      <th>0</th>\n",
       "      <td>1</td>\n",
       "      <td>8315_6</td>\n",
       "      <td>0</td>\n",
       "      <td>6</td>\n",
       "      <td>8315</td>\n",
       "      <td>c19441</td>\n",
       "      <td>7</td>\n",
       "      <td>985</td>\n",
       "      <td>1035</td>\n",
       "      <td>0.487624</td>\n",
       "      <td>67</td>\n",
       "      <td>2020</td>\n",
       "      <td>30.149254</td>\n",
       "      <td>22.472205</td>\n",
       "      <td>-1.112485</td>\n",
       "    </tr>\n",
       "    <tr>\n",
       "      <th>1</th>\n",
       "      <td>1</td>\n",
       "      <td>8315_6</td>\n",
       "      <td>0</td>\n",
       "      <td>6</td>\n",
       "      <td>8315</td>\n",
       "      <td>c19441</td>\n",
       "      <td>90</td>\n",
       "      <td>1291</td>\n",
       "      <td>1211</td>\n",
       "      <td>0.515987</td>\n",
       "      <td>83</td>\n",
       "      <td>2502</td>\n",
       "      <td>30.144578</td>\n",
       "      <td>25.009998</td>\n",
       "      <td>1.599360</td>\n",
       "    </tr>\n",
       "    <tr>\n",
       "      <th>2</th>\n",
       "      <td>1</td>\n",
       "      <td>36304_6</td>\n",
       "      <td>0</td>\n",
       "      <td>6</td>\n",
       "      <td>36304</td>\n",
       "      <td>c52547</td>\n",
       "      <td>7</td>\n",
       "      <td>1439</td>\n",
       "      <td>1455</td>\n",
       "      <td>0.497236</td>\n",
       "      <td>82</td>\n",
       "      <td>2894</td>\n",
       "      <td>35.292683</td>\n",
       "      <td>26.897955</td>\n",
       "      <td>-0.297420</td>\n",
       "    </tr>\n",
       "    <tr>\n",
       "      <th>3</th>\n",
       "      <td>1</td>\n",
       "      <td>41478_6</td>\n",
       "      <td>0</td>\n",
       "      <td>6</td>\n",
       "      <td>41478</td>\n",
       "      <td>c58618</td>\n",
       "      <td>7</td>\n",
       "      <td>1230</td>\n",
       "      <td>1132</td>\n",
       "      <td>0.520745</td>\n",
       "      <td>76</td>\n",
       "      <td>2362</td>\n",
       "      <td>31.078947</td>\n",
       "      <td>24.300206</td>\n",
       "      <td>2.016444</td>\n",
       "    </tr>\n",
       "    <tr>\n",
       "      <th>4</th>\n",
       "      <td>1</td>\n",
       "      <td>6516_7</td>\n",
       "      <td>0</td>\n",
       "      <td>7</td>\n",
       "      <td>6516</td>\n",
       "      <td>c17379</td>\n",
       "      <td>8</td>\n",
       "      <td>773</td>\n",
       "      <td>768</td>\n",
       "      <td>0.501622</td>\n",
       "      <td>43</td>\n",
       "      <td>1541</td>\n",
       "      <td>35.837209</td>\n",
       "      <td>19.627786</td>\n",
       "      <td>0.127370</td>\n",
       "    </tr>\n",
       "  </tbody>\n",
       "</table>\n",
       "</div>"
      ],
      "text/plain": [
       "   LG stacks_SNP  junk1  junk2  locus_ID  contig  pos  depth_a  depth_b  \\\n",
       "0   1     8315_6      0      6      8315  c19441    7      985     1035   \n",
       "1   1     8315_6      0      6      8315  c19441   90     1291     1211   \n",
       "2   1    36304_6      0      6     36304  c52547    7     1439     1455   \n",
       "3   1    41478_6      0      6     41478  c58618    7     1230     1132   \n",
       "4   1     6516_7      0      7      6516  c17379    8      773      768   \n",
       "\n",
       "      ratio  num_hets  total_depth  depth_per_het        std         z  \n",
       "0  0.487624        67         2020      30.149254  22.472205 -1.112485  \n",
       "1  0.515987        83         2502      30.144578  25.009998  1.599360  \n",
       "2  0.497236        82         2894      35.292683  26.897955 -0.297420  \n",
       "3  0.520745        76         2362      31.078947  24.300206  2.016444  \n",
       "4  0.501622        43         1541      35.837209  19.627786  0.127370  "
      ]
     },
     "execution_count": 42,
     "metadata": {},
     "output_type": "execute_result"
    }
   ],
   "source": [
    "mapped_depth = pd.merge(mapped_non_paralogs, depths)\n",
    "\n",
    "mapped_depth.head()"
   ]
  },
  {
   "cell_type": "code",
   "execution_count": null,
   "metadata": {
    "collapsed": true
   },
   "outputs": [],
   "source": []
  },
  {
   "cell_type": "markdown",
   "metadata": {},
   "source": [
    "#### calculated the expected std deviation, based on the binomial distribution"
   ]
  },
  {
   "cell_type": "code",
   "execution_count": 9,
   "metadata": {
    "collapsed": false
   },
   "outputs": [
    {
     "data": {
      "text/html": [
       "<div>\n",
       "<table border=\"1\" class=\"dataframe\">\n",
       "  <thead>\n",
       "    <tr style=\"text-align: right;\">\n",
       "      <th></th>\n",
       "      <th>contig</th>\n",
       "      <th>pos</th>\n",
       "      <th>locus_ID</th>\n",
       "      <th>depth_a</th>\n",
       "      <th>depth_b</th>\n",
       "      <th>ratio</th>\n",
       "      <th>num_hets</th>\n",
       "      <th>total_depth</th>\n",
       "      <th>depth_per_het</th>\n",
       "      <th>std</th>\n",
       "    </tr>\n",
       "  </thead>\n",
       "  <tbody>\n",
       "    <tr>\n",
       "      <th>0</th>\n",
       "      <td>c1000</td>\n",
       "      <td>75</td>\n",
       "      <td>7</td>\n",
       "      <td>4191</td>\n",
       "      <td>5493</td>\n",
       "      <td>0.432776</td>\n",
       "      <td>186</td>\n",
       "      <td>9684</td>\n",
       "      <td>52.064516</td>\n",
       "      <td>49.203658</td>\n",
       "    </tr>\n",
       "    <tr>\n",
       "      <th>1</th>\n",
       "      <td>c1000</td>\n",
       "      <td>93</td>\n",
       "      <td>7</td>\n",
       "      <td>3928</td>\n",
       "      <td>2422</td>\n",
       "      <td>0.618583</td>\n",
       "      <td>125</td>\n",
       "      <td>6350</td>\n",
       "      <td>50.800000</td>\n",
       "      <td>39.843444</td>\n",
       "    </tr>\n",
       "    <tr>\n",
       "      <th>2</th>\n",
       "      <td>c10000</td>\n",
       "      <td>14</td>\n",
       "      <td>1</td>\n",
       "      <td>4346</td>\n",
       "      <td>5659</td>\n",
       "      <td>0.434383</td>\n",
       "      <td>177</td>\n",
       "      <td>10005</td>\n",
       "      <td>56.525424</td>\n",
       "      <td>50.012498</td>\n",
       "    </tr>\n",
       "    <tr>\n",
       "      <th>3</th>\n",
       "      <td>c10000</td>\n",
       "      <td>18</td>\n",
       "      <td>1</td>\n",
       "      <td>5979</td>\n",
       "      <td>4122</td>\n",
       "      <td>0.591922</td>\n",
       "      <td>176</td>\n",
       "      <td>10101</td>\n",
       "      <td>57.392045</td>\n",
       "      <td>50.251866</td>\n",
       "    </tr>\n",
       "    <tr>\n",
       "      <th>4</th>\n",
       "      <td>c10001</td>\n",
       "      <td>81</td>\n",
       "      <td>68651</td>\n",
       "      <td>1069</td>\n",
       "      <td>1053</td>\n",
       "      <td>0.503770</td>\n",
       "      <td>54</td>\n",
       "      <td>2122</td>\n",
       "      <td>39.296296</td>\n",
       "      <td>23.032586</td>\n",
       "    </tr>\n",
       "  </tbody>\n",
       "</table>\n",
       "</div>"
      ],
      "text/plain": [
       "   contig  pos  locus_ID  depth_a  depth_b     ratio  num_hets  total_depth  \\\n",
       "0   c1000   75         7     4191     5493  0.432776       186         9684   \n",
       "1   c1000   93         7     3928     2422  0.618583       125         6350   \n",
       "2  c10000   14         1     4346     5659  0.434383       177        10005   \n",
       "3  c10000   18         1     5979     4122  0.591922       176        10101   \n",
       "4  c10001   81     68651     1069     1053  0.503770        54         2122   \n",
       "\n",
       "   depth_per_het        std  \n",
       "0      52.064516  49.203658  \n",
       "1      50.800000  39.843444  \n",
       "2      56.525424  50.012498  \n",
       "3      57.392045  50.251866  \n",
       "4      39.296296  23.032586  "
      ]
     },
     "execution_count": 9,
     "metadata": {},
     "output_type": "execute_result"
    }
   ],
   "source": [
    "depths['std'] = scipy.stats.binom(n = depths['total_depth'], p = .5).std()\n",
    "depths.head()"
   ]
  },
  {
   "cell_type": "markdown",
   "metadata": {},
   "source": [
    "#### Z-score based on that std deviation"
   ]
  },
  {
   "cell_type": "code",
   "execution_count": 10,
   "metadata": {
    "collapsed": false
   },
   "outputs": [
    {
     "data": {
      "text/html": [
       "<div>\n",
       "<table border=\"1\" class=\"dataframe\">\n",
       "  <thead>\n",
       "    <tr style=\"text-align: right;\">\n",
       "      <th></th>\n",
       "      <th>contig</th>\n",
       "      <th>pos</th>\n",
       "      <th>locus_ID</th>\n",
       "      <th>depth_a</th>\n",
       "      <th>depth_b</th>\n",
       "      <th>ratio</th>\n",
       "      <th>num_hets</th>\n",
       "      <th>total_depth</th>\n",
       "      <th>depth_per_het</th>\n",
       "      <th>std</th>\n",
       "      <th>z</th>\n",
       "    </tr>\n",
       "  </thead>\n",
       "  <tbody>\n",
       "    <tr>\n",
       "      <th>0</th>\n",
       "      <td>c1000</td>\n",
       "      <td>75</td>\n",
       "      <td>7</td>\n",
       "      <td>4191</td>\n",
       "      <td>5493</td>\n",
       "      <td>0.432776</td>\n",
       "      <td>186</td>\n",
       "      <td>9684</td>\n",
       "      <td>52.064516</td>\n",
       "      <td>49.203658</td>\n",
       "      <td>-13.230724</td>\n",
       "    </tr>\n",
       "    <tr>\n",
       "      <th>1</th>\n",
       "      <td>c1000</td>\n",
       "      <td>93</td>\n",
       "      <td>7</td>\n",
       "      <td>3928</td>\n",
       "      <td>2422</td>\n",
       "      <td>0.618583</td>\n",
       "      <td>125</td>\n",
       "      <td>6350</td>\n",
       "      <td>50.800000</td>\n",
       "      <td>39.843444</td>\n",
       "      <td>18.898969</td>\n",
       "    </tr>\n",
       "    <tr>\n",
       "      <th>2</th>\n",
       "      <td>c10000</td>\n",
       "      <td>14</td>\n",
       "      <td>1</td>\n",
       "      <td>4346</td>\n",
       "      <td>5659</td>\n",
       "      <td>0.434383</td>\n",
       "      <td>177</td>\n",
       "      <td>10005</td>\n",
       "      <td>56.525424</td>\n",
       "      <td>50.012498</td>\n",
       "      <td>-13.126719</td>\n",
       "    </tr>\n",
       "    <tr>\n",
       "      <th>3</th>\n",
       "      <td>c10000</td>\n",
       "      <td>18</td>\n",
       "      <td>1</td>\n",
       "      <td>5979</td>\n",
       "      <td>4122</td>\n",
       "      <td>0.591922</td>\n",
       "      <td>176</td>\n",
       "      <td>10101</td>\n",
       "      <td>57.392045</td>\n",
       "      <td>50.251866</td>\n",
       "      <td>18.476926</td>\n",
       "    </tr>\n",
       "    <tr>\n",
       "      <th>4</th>\n",
       "      <td>c10001</td>\n",
       "      <td>81</td>\n",
       "      <td>68651</td>\n",
       "      <td>1069</td>\n",
       "      <td>1053</td>\n",
       "      <td>0.503770</td>\n",
       "      <td>54</td>\n",
       "      <td>2122</td>\n",
       "      <td>39.296296</td>\n",
       "      <td>23.032586</td>\n",
       "      <td>0.347334</td>\n",
       "    </tr>\n",
       "  </tbody>\n",
       "</table>\n",
       "</div>"
      ],
      "text/plain": [
       "   contig  pos  locus_ID  depth_a  depth_b     ratio  num_hets  total_depth  \\\n",
       "0   c1000   75         7     4191     5493  0.432776       186         9684   \n",
       "1   c1000   93         7     3928     2422  0.618583       125         6350   \n",
       "2  c10000   14         1     4346     5659  0.434383       177        10005   \n",
       "3  c10000   18         1     5979     4122  0.591922       176        10101   \n",
       "4  c10001   81     68651     1069     1053  0.503770        54         2122   \n",
       "\n",
       "   depth_per_het        std          z  \n",
       "0      52.064516  49.203658 -13.230724  \n",
       "1      50.800000  39.843444  18.898969  \n",
       "2      56.525424  50.012498 -13.126719  \n",
       "3      57.392045  50.251866  18.476926  \n",
       "4      39.296296  23.032586   0.347334  "
      ]
     },
     "execution_count": 10,
     "metadata": {},
     "output_type": "execute_result"
    }
   ],
   "source": [
    "depths['z'] = -(depths['total_depth']/2. - depths['depth_a'])/ depths['std']\n",
    "depths.head()"
   ]
  },
  {
   "cell_type": "code",
   "execution_count": null,
   "metadata": {
    "collapsed": true
   },
   "outputs": [],
   "source": []
  },
  {
   "cell_type": "markdown",
   "metadata": {},
   "source": [
    "Fraction of 'a' alleles"
   ]
  },
  {
   "cell_type": "code",
   "execution_count": 11,
   "metadata": {
    "collapsed": false
   },
   "outputs": [
    {
     "name": "stdout",
     "output_type": "stream",
     "text": [
      "60070080 60046023 0.500100140611\n"
     ]
    }
   ],
   "source": [
    "sum_a = sum(depths['depth_a'])\n",
    "sum_b = sum(depths['depth_b'])\n",
    "frac_a = np.float(sum_a)/(sum_a + sum_b)\n",
    "print sum_a, sum_b, frac_a"
   ]
  },
  {
   "cell_type": "markdown",
   "metadata": {},
   "source": [
    "Highly significant!"
   ]
  },
  {
   "cell_type": "code",
   "execution_count": 12,
   "metadata": {
    "collapsed": false
   },
   "outputs": [
    {
     "name": "stdout",
     "output_type": "stream",
     "text": [
      "0.0281678432017\n"
     ]
    }
   ],
   "source": [
    "p_value = scipy.stats.binom_test((sum_a, sum_b))\n",
    "print(p_value)"
   ]
  },
  {
   "cell_type": "markdown",
   "metadata": {},
   "source": [
    "## Remove some high-coverage loci"
   ]
  },
  {
   "cell_type": "code",
   "execution_count": 13,
   "metadata": {
    "collapsed": true
   },
   "outputs": [],
   "source": [
    "depths = depths[depths['total_depth'] < 100000]"
   ]
  },
  {
   "cell_type": "markdown",
   "metadata": {},
   "source": [
    "## TODO: Merge/compare with filtered data"
   ]
  },
  {
   "cell_type": "markdown",
   "metadata": {},
   "source": [
    "Absolute allele count difference"
   ]
  },
  {
   "cell_type": "code",
   "execution_count": 14,
   "metadata": {
    "collapsed": false
   },
   "outputs": [
    {
     "data": {
      "image/png": "[encoded data removed]",
      "text/plain": [
       "<matplotlib.figure.Figure at 0x7f75e8cc6310>"
      ]
     },
     "metadata": {},
     "output_type": "display_data"
    }
   ],
   "source": [
    "plt.hist(depths['depth_a']-depths['depth_b'], bins = 100)\n",
    "plt.show()"
   ]
  },
  {
   "cell_type": "markdown",
   "metadata": {},
   "source": [
    "Allelelic ratios"
   ]
  },
  {
   "cell_type": "code",
   "execution_count": 15,
   "metadata": {
    "collapsed": false
   },
   "outputs": [
    {
     "data": {
      "image/png": "[encoded data removed]",
      "text/plain": [
       "<matplotlib.figure.Figure at 0x7f75e8cc6a90>"
      ]
     },
     "metadata": {},
     "output_type": "display_data"
    }
   ],
   "source": [
    "plt.hist(depths['ratio'], bins = 100)\n",
    "plt.show()"
   ]
  },
  {
   "cell_type": "code",
   "execution_count": 16,
   "metadata": {
    "collapsed": false
   },
   "outputs": [
    {
     "data": {
      "image/png": "[encoded data removed]",
      "text/plain": [
       "<matplotlib.figure.Figure at 0x7f75e89e4310>"
      ]
     },
     "metadata": {},
     "output_type": "display_data"
    }
   ],
   "source": [
    "plt.scatter(depths['ratio'], depths['z'], alpha = .2)\n",
    "plt.show()"
   ]
  },
  {
   "cell_type": "markdown",
   "metadata": {},
   "source": [
    "histogram of z-scores"
   ]
  },
  {
   "cell_type": "code",
   "execution_count": 17,
   "metadata": {
    "collapsed": false
   },
   "outputs": [
    {
     "data": {
      "image/png": "[encoded data removed]",
      "text/plain": [
       "<matplotlib.figure.Figure at 0x7f75e8cc6550>"
      ]
     },
     "metadata": {},
     "output_type": "display_data"
    }
   ],
   "source": [
    "plt.hist(depths['z'], bins = 100)\n",
    "plt.show()"
   ]
  },
  {
   "cell_type": "markdown",
   "metadata": {},
   "source": [
    "Higher depths leads to somewhat more bias"
   ]
  },
  {
   "cell_type": "code",
   "execution_count": 70,
   "metadata": {
    "collapsed": false
   },
   "outputs": [
    {
     "data": {
      "image/png": "[encoded data removed]",
      "text/plain": [
       "<matplotlib.figure.Figure at 0x7f75e8d47d50>"
      ]
     },
     "metadata": {},
     "output_type": "display_data"
    }
   ],
   "source": [
    "plt.scatter(depths['depth_per_het'], depths['z'], alpha = .05, color = 'green')\n",
    "plt.ylabel('allele bias')\n",
    "#plt.xscale('log')\n",
    "plt.xlim(1, 100)\n",
    "plt.ylim(-10, 10)\n",
    "plt.show()"
   ]
  },
  {
   "cell_type": "markdown",
   "metadata": {},
   "source": [
    "Mapped loci - show much less bias and a little less depth"
   ]
  },
  {
   "cell_type": "code",
   "execution_count": 69,
   "metadata": {
    "collapsed": false
   },
   "outputs": [
    {
     "data": {
      "image/png": "[encoded data removed]",
      "text/plain": [
       "<matplotlib.figure.Figure at 0x7f75e8363610>"
      ]
     },
     "metadata": {},
     "output_type": "display_data"
    }
   ],
   "source": [
    "plt.scatter(mapped_depth['depth_per_het'], mapped_depth['z'], alpha = .05, color = 'blue')\n",
    "plt.ylabel('allele bias')\n",
    "#plt.xscale('log')\n",
    "plt.xlim(1, 100)\n",
    "plt.ylim(-10, 10)\n",
    "plt.show()"
   ]
  },
  {
   "cell_type": "markdown",
   "metadata": {},
   "source": [
    "Signs of a bi-modal depth destribution"
   ]
  },
  {
   "cell_type": "code",
   "execution_count": 75,
   "metadata": {
    "collapsed": false
   },
   "outputs": [
    {
     "data": {
      "image/png": "[encoded data removed]",
      "text/plain": [
       "<matplotlib.figure.Figure at 0x7f75e14e3950>"
      ]
     },
     "metadata": {},
     "output_type": "display_data"
    }
   ],
   "source": [
    "plt.hist(depths['depth_per_het'], bins = 100, range = (0,100))\n",
    "plt.xlabel('allele bias')\n",
    "plt.xlim(1, 100)\n",
    "plt.show()"
   ]
  },
  {
   "cell_type": "markdown",
   "metadata": {},
   "source": [
    "Not present in mapped loci"
   ]
  },
  {
   "cell_type": "code",
   "execution_count": 76,
   "metadata": {
    "collapsed": false
   },
   "outputs": [
    {
     "data": {
      "image/png": "[encoded data removed]",
      "text/plain": [
       "<matplotlib.figure.Figure at 0x7f75e1440310>"
      ]
     },
     "metadata": {},
     "output_type": "display_data"
    }
   ],
   "source": [
    "plt.hist(mapped_depth['depth_per_het'], bins = 100, range = (0,100))\n",
    "plt.xlabel('allele bias')\n",
    "plt.xlim(1, 100)\n",
    "plt.show()"
   ]
  },
  {
   "cell_type": "code",
   "execution_count": 77,
   "metadata": {
    "collapsed": false
   },
   "outputs": [
    {
     "data": {
      "text/plain": [
       "7684"
      ]
     },
     "execution_count": 77,
     "metadata": {},
     "output_type": "execute_result"
    }
   ],
   "source": [
    "paralogs = pd.merge(paralogs, depths)\n",
    "len(paralogs)"
   ]
  },
  {
   "cell_type": "code",
   "execution_count": 21,
   "metadata": {
    "collapsed": false
   },
   "outputs": [],
   "source": [
    "paralog_contigs = list(paralogs['contig'])\n",
    "\n",
    "non_paralogs = depths[[(xx not in paralog_contigs) for xx in depths['contig']]]"
   ]
  },
  {
   "cell_type": "code",
   "execution_count": 84,
   "metadata": {
    "collapsed": false
   },
   "outputs": [
    {
     "data": {
      "image/png": "[encoded data removed]",
      "text/plain": [
       "<matplotlib.figure.Figure at 0x7f75e83a32d0>"
      ]
     },
     "metadata": {},
     "output_type": "display_data"
    },
    {
     "data": {
      "image/png": "[encoded data removed]",
      "text/plain": [
       "<matplotlib.figure.Figure at 0x7f75e0098ed0>"
      ]
     },
     "metadata": {},
     "output_type": "display_data"
    },
    {
     "data": {
      "image/png": "[encoded data removed]",
      "text/plain": [
       "<matplotlib.figure.Figure at 0x7f75e3d698d0>"
      ]
     },
     "metadata": {},
     "output_type": "display_data"
    }
   ],
   "source": [
    "plt.scatter(depths['depth_per_het'], depths['z'], alpha = .05, color = 'green')\n",
    "plt.ylabel('allele bias')\n",
    "plt.xscale('log')\n",
    "plt.xlim(10, 100)\n",
    "plt.ylim(-50, 50)\n",
    "plt.show()\n",
    "\n",
    "plt.scatter(paralogs['depth_per_het'], paralogs['z'], alpha = .05, color = 'red')\n",
    "plt.ylabel('allele bias')\n",
    "plt.xscale('log')\n",
    "plt.xlim(10, 100)\n",
    "plt.ylim(-50, 50)\n",
    "plt.show()\n",
    "\n",
    "plt.scatter(mapped_depth['depth_per_het'], mapped_depth['z'], alpha = .05, color = 'blue')\n",
    "plt.ylabel('allele bias')\n",
    "plt.xscale('log')\n",
    "plt.xlim(10, 100)\n",
    "plt.ylim(-50, 50)\n",
    "plt.show()\n"
   ]
  },
  {
   "cell_type": "markdown",
   "metadata": {},
   "source": [
    "No clear pattern of depth by position"
   ]
  },
  {
   "cell_type": "code",
   "execution_count": 66,
   "metadata": {
    "collapsed": false
   },
   "outputs": [
    {
     "data": {
      "image/png": "[encoded data removed]",
      "text/plain": [
       "<matplotlib.figure.Figure at 0x7fb8fd24d050>"
      ]
     },
     "metadata": {},
     "output_type": "display_data"
    }
   ],
   "source": [
    "plt.scatter(depths['pos'], depths['total_depth'], alpha = .2)\n",
    "plt.yscale('log')\n",
    "plt.show()"
   ]
  },
  {
   "cell_type": "markdown",
   "metadata": {},
   "source": [
    "How is the z-score related to the allelic ratio?"
   ]
  },
  {
   "cell_type": "markdown",
   "metadata": {},
   "source": [
    "Bias by position"
   ]
  },
  {
   "cell_type": "code",
   "execution_count": 67,
   "metadata": {
    "collapsed": false
   },
   "outputs": [
    {
     "data": {
      "image/png": "[encoded data removed]",
      "text/plain": [
       "<matplotlib.figure.Figure at 0x7fb8fc7bf6d0>"
      ]
     },
     "metadata": {},
     "output_type": "display_data"
    }
   ],
   "source": [
    "plt.scatter(depths['pos'], np.abs(depths['z']), alpha = .2)\n",
    "plt.show()"
   ]
  },
  {
   "cell_type": "markdown",
   "metadata": {},
   "source": [
    "Relation to depth"
   ]
  },
  {
   "cell_type": "code",
   "execution_count": 68,
   "metadata": {
    "collapsed": false
   },
   "outputs": [
    {
     "data": {
      "image/png": "[encoded data removed]",
      "text/plain": [
       "<matplotlib.figure.Figure at 0x7fb8fd111a10>"
      ]
     },
     "metadata": {},
     "output_type": "display_data"
    }
   ],
   "source": [
    "scipy.stats.probplot(depths['z'], dist=\"norm\", plot=plt)\n",
    "plt.show()"
   ]
  },
  {
   "cell_type": "code",
   "execution_count": 69,
   "metadata": {
    "collapsed": false
   },
   "outputs": [
    {
     "data": {
      "text/plain": [
       "(-5, 5)"
      ]
     },
     "execution_count": 69,
     "metadata": {},
     "output_type": "execute_result"
    },
    {
     "data": {
      "image/png": "[encoded data removed]",
      "text/plain": [
       "<matplotlib.figure.Figure at 0x7fb8fc3c2790>"
      ]
     },
     "metadata": {},
     "output_type": "display_data"
    }
   ],
   "source": [
    "qq = statsmodels.graphics.gofplots.qqplot(depths['z'], line = '45')\n",
    "plt.xlim(-5,5)"
   ]
  },
  {
   "cell_type": "code",
   "execution_count": null,
   "metadata": {
    "collapsed": true
   },
   "outputs": [],
   "source": []
  },
  {
   "cell_type": "code",
   "execution_count": 62,
   "metadata": {
    "collapsed": false
   },
   "outputs": [],
   "source": [
    "def write_allele_bias_file_by_ind(vcf_file, out_file):\n",
    "    with open(vcf_file) as INFILE:\n",
    "        with open(out_file, 'w') as OUTFILE:\n",
    "            for line in INFILE:\n",
    "                if line.startswith('##'):\n",
    "                    print 'skipped!'\n",
    "                    pass\n",
    "                elif line.startswith('#CHROM'):\n",
    "                    header = line.strip().strip('#').split('\\t')\n",
    "                    inds = header[9:]\n",
    "                    #print(inds)\n",
    "                else:\n",
    "                    tabs = line.split('\\t')\n",
    "                    contig = tabs[0]\n",
    "                    pos = tabs[1]\n",
    "                    genotypes = tabs[9:]\n",
    "                    depth_a_of_ind = dict()\n",
    "                    depth_b_of_ind = dict()\n",
    "                    for gen_idx, gen in enumerate(genotypes):\n",
    "                        if gen.split(':')[0] in ['1/0', '0/1']: # if het\n",
    "                            depth_a = int(gen.split(':')[2].split(',')[0])\n",
    "                            depth_b = int(gen.split(':')[2].split(',')[1])\n",
    "                            std = scipy.stats.binom(n = depth_a + depth_b, p = .5).std()\n",
    "                            z = ((depth_a + depth_b)/2. - depth_a)/ -std          \n",
    "                            OUTFILE.write('{}\\t{}\\t{}\\t{}\\t{}\\t{}\\t{}\\n'.format(\n",
    "                                    contig, pos, inds[gen_idx], depth_a, depth_b, std, z))"
   ]
  },
  {
   "cell_type": "code",
   "execution_count": 63,
   "metadata": {
    "collapsed": false
   },
   "outputs": [
    {
     "name": "stdout",
     "output_type": "stream",
     "text": [
      "skipped!\n",
      "skipped!\n",
      "skipped!\n",
      "skipped!\n",
      "skipped!\n",
      "skipped!\n",
      "skipped!\n",
      "skipped!\n",
      "skipped!\n"
     ]
    }
   ],
   "source": [
    "#write_allele_bias_file_by_ind(vcf_file='/home/ipseg/Desktop/waples/temp/batch_4.vcf', out_file = '/home/ipseg/Desktop/waples/temp/batch_4.depths_by_ind')"
   ]
  },
  {
   "cell_type": "markdown",
   "metadata": {},
   "source": [
    "# END WORK"
   ]
  },
  {
   "cell_type": "markdown",
   "metadata": {},
   "source": [
    "## Logistic regression \n",
    "see http://blog.yhathq.com/posts/logistic-regression-and-python.html"
   ]
  },
  {
   "cell_type": "code",
   "execution_count": 1,
   "metadata": {
    "collapsed": false
   },
   "outputs": [
    {
     "ename": "SyntaxError",
     "evalue": "'break' outside loop (<ipython-input-1-b20fcc2397e7>, line 1)",
     "output_type": "error",
     "traceback": [
      "\u001b[1;36m  File \u001b[1;32m\"<ipython-input-1-b20fcc2397e7>\"\u001b[1;36m, line \u001b[1;32m1\u001b[0m\n\u001b[1;33m    break\u001b[0m\n\u001b[1;31mSyntaxError\u001b[0m\u001b[1;31m:\u001b[0m 'break' outside loop\n"
     ]
    }
   ],
   "source": [
    "break"
   ]
  },
  {
   "cell_type": "code",
   "execution_count": null,
   "metadata": {
    "collapsed": true
   },
   "outputs": [],
   "source": []
  },
  {
   "cell_type": "code",
   "execution_count": null,
   "metadata": {
    "collapsed": true
   },
   "outputs": [],
   "source": []
  },
  {
   "cell_type": "markdown",
   "metadata": {},
   "source": [
    "# This file is HUGE"
   ]
  },
  {
   "cell_type": "code",
   "execution_count": 206,
   "metadata": {
    "collapsed": false
   },
   "outputs": [
    {
     "name": "stdout",
     "output_type": "stream",
     "text": [
      "skipped!\n",
      "skipped!\n",
      "skipped!\n",
      "skipped!\n",
      "skipped!\n",
      "skipped!\n",
      "skipped!\n",
      "skipped!\n",
      "skipped!\n"
     ]
    }
   ],
   "source": [
    "write_allele_bias_file(vcf_file='/home/ipseg/Desktop/waples/temp/batch_4.vcf', out_file = '/home/ipseg/Desktop/waples/temp/batch_4.AB')"
   ]
  },
  {
   "cell_type": "code",
   "execution_count": 208,
   "metadata": {
    "collapsed": false
   },
   "outputs": [
    {
     "data": {
      "text/html": [
       "<div>\n",
       "<table border=\"1\" class=\"dataframe\">\n",
       "  <thead>\n",
       "    <tr style=\"text-align: right;\">\n",
       "      <th></th>\n",
       "      <th>0</th>\n",
       "      <th>1</th>\n",
       "      <th>2</th>\n",
       "      <th>3</th>\n",
       "    </tr>\n",
       "  </thead>\n",
       "  <tbody>\n",
       "    <tr>\n",
       "      <th>0</th>\n",
       "      <td>c1000</td>\n",
       "      <td>75</td>\n",
       "      <td>CMSTILL10_0055</td>\n",
       "      <td>0</td>\n",
       "    </tr>\n",
       "    <tr>\n",
       "      <th>1</th>\n",
       "      <td>c1000</td>\n",
       "      <td>75</td>\n",
       "      <td>CMSTILL10_0055</td>\n",
       "      <td>0</td>\n",
       "    </tr>\n",
       "    <tr>\n",
       "      <th>2</th>\n",
       "      <td>c1000</td>\n",
       "      <td>75</td>\n",
       "      <td>CMSTILL10_0055</td>\n",
       "      <td>0</td>\n",
       "    </tr>\n",
       "    <tr>\n",
       "      <th>3</th>\n",
       "      <td>c1000</td>\n",
       "      <td>75</td>\n",
       "      <td>CMSTILL10_0055</td>\n",
       "      <td>0</td>\n",
       "    </tr>\n",
       "    <tr>\n",
       "      <th>4</th>\n",
       "      <td>c1000</td>\n",
       "      <td>75</td>\n",
       "      <td>CMSTILL10_0055</td>\n",
       "      <td>0</td>\n",
       "    </tr>\n",
       "  </tbody>\n",
       "</table>\n",
       "</div>"
      ],
      "text/plain": [
       "       0   1               2  3\n",
       "0  c1000  75  CMSTILL10_0055  0\n",
       "1  c1000  75  CMSTILL10_0055  0\n",
       "2  c1000  75  CMSTILL10_0055  0\n",
       "3  c1000  75  CMSTILL10_0055  0\n",
       "4  c1000  75  CMSTILL10_0055  0"
      ]
     },
     "execution_count": 208,
     "metadata": {},
     "output_type": "execute_result"
    }
   ],
   "source": [
    "df = pd.read_csv('/home/ipseg/Desktop/waples/temp/batch_4.AB', sep = '\\t', header = None)"
   ]
  },
  {
   "cell_type": "code",
   "execution_count": 211,
   "metadata": {
    "collapsed": false
   },
   "outputs": [
    {
     "name": "stdout",
     "output_type": "stream",
     "text": [
      "120116103\n"
     ]
    },
    {
     "data": {
      "text/html": [
       "<div>\n",
       "<table border=\"1\" class=\"dataframe\">\n",
       "  <thead>\n",
       "    <tr style=\"text-align: right;\">\n",
       "      <th></th>\n",
       "      <th>contig</th>\n",
       "      <th>pos</th>\n",
       "      <th>ind</th>\n",
       "      <th>allele</th>\n",
       "    </tr>\n",
       "  </thead>\n",
       "  <tbody>\n",
       "    <tr>\n",
       "      <th>0</th>\n",
       "      <td>c1000</td>\n",
       "      <td>75</td>\n",
       "      <td>CMSTILL10_0055</td>\n",
       "      <td>0</td>\n",
       "    </tr>\n",
       "    <tr>\n",
       "      <th>1</th>\n",
       "      <td>c1000</td>\n",
       "      <td>75</td>\n",
       "      <td>CMSTILL10_0055</td>\n",
       "      <td>0</td>\n",
       "    </tr>\n",
       "    <tr>\n",
       "      <th>2</th>\n",
       "      <td>c1000</td>\n",
       "      <td>75</td>\n",
       "      <td>CMSTILL10_0055</td>\n",
       "      <td>0</td>\n",
       "    </tr>\n",
       "    <tr>\n",
       "      <th>3</th>\n",
       "      <td>c1000</td>\n",
       "      <td>75</td>\n",
       "      <td>CMSTILL10_0055</td>\n",
       "      <td>0</td>\n",
       "    </tr>\n",
       "    <tr>\n",
       "      <th>4</th>\n",
       "      <td>c1000</td>\n",
       "      <td>75</td>\n",
       "      <td>CMSTILL10_0055</td>\n",
       "      <td>0</td>\n",
       "    </tr>\n",
       "  </tbody>\n",
       "</table>\n",
       "</div>"
      ],
      "text/plain": [
       "  contig  pos             ind  allele\n",
       "0  c1000   75  CMSTILL10_0055       0\n",
       "1  c1000   75  CMSTILL10_0055       0\n",
       "2  c1000   75  CMSTILL10_0055       0\n",
       "3  c1000   75  CMSTILL10_0055       0\n",
       "4  c1000   75  CMSTILL10_0055       0"
      ]
     },
     "execution_count": 211,
     "metadata": {},
     "output_type": "execute_result"
    }
   ],
   "source": [
    "df.columns = ['contig', 'pos', 'ind', 'allele']\n",
    "print len(df)\n",
    "df.head()"
   ]
  },
  {
   "cell_type": "code",
   "execution_count": 214,
   "metadata": {
    "collapsed": false
   },
   "outputs": [],
   "source": [
    "df_sub = df[1:5000000]"
   ]
  },
  {
   "cell_type": "code",
   "execution_count": 217,
   "metadata": {
    "collapsed": true
   },
   "outputs": [],
   "source": [
    "df_sub = df_sub[1:1000000]"
   ]
  },
  {
   "cell_type": "code",
   "execution_count": 218,
   "metadata": {
    "collapsed": false
   },
   "outputs": [
    {
     "ename": "NameError",
     "evalue": "name 'df' is not defined",
     "output_type": "error",
     "traceback": [
      "\u001b[1;31m---------------------------------------------------------------------------\u001b[0m",
      "\u001b[1;31mNameError\u001b[0m                                 Traceback (most recent call last)",
      "\u001b[1;32m<ipython-input-218-ea3cf69ec397>\u001b[0m in \u001b[0;36m<module>\u001b[1;34m()\u001b[0m\n\u001b[1;32m----> 1\u001b[1;33m \u001b[1;32mdel\u001b[0m \u001b[0mdf\u001b[0m\u001b[1;33m\u001b[0m\u001b[0m\n\u001b[0m",
      "\u001b[1;31mNameError\u001b[0m: name 'df' is not defined"
     ]
    }
   ],
   "source": [
    "del df"
   ]
  },
  {
   "cell_type": "code",
   "execution_count": 224,
   "metadata": {
    "collapsed": false
   },
   "outputs": [
    {
     "data": {
      "text/html": [
       "<div>\n",
       "<table border=\"1\" class=\"dataframe\">\n",
       "  <thead>\n",
       "    <tr style=\"text-align: right;\">\n",
       "      <th></th>\n",
       "      <th>c1000</th>\n",
       "      <th>c10000</th>\n",
       "      <th>c10001</th>\n",
       "      <th>c10003</th>\n",
       "      <th>c10012</th>\n",
       "      <th>c10019</th>\n",
       "      <th>c1002</th>\n",
       "      <th>c10020</th>\n",
       "      <th>c10022</th>\n",
       "      <th>c10027</th>\n",
       "      <th>...</th>\n",
       "      <th>c10442</th>\n",
       "      <th>c10451</th>\n",
       "      <th>c10454</th>\n",
       "      <th>c10455</th>\n",
       "      <th>c10458</th>\n",
       "      <th>c10459</th>\n",
       "      <th>c1046</th>\n",
       "      <th>c10463</th>\n",
       "      <th>c10467</th>\n",
       "      <th>intercept</th>\n",
       "    </tr>\n",
       "  </thead>\n",
       "  <tbody>\n",
       "    <tr>\n",
       "      <th>2</th>\n",
       "      <td>1</td>\n",
       "      <td>0</td>\n",
       "      <td>0</td>\n",
       "      <td>0</td>\n",
       "      <td>0</td>\n",
       "      <td>0</td>\n",
       "      <td>0</td>\n",
       "      <td>0</td>\n",
       "      <td>0</td>\n",
       "      <td>0</td>\n",
       "      <td>...</td>\n",
       "      <td>0</td>\n",
       "      <td>0</td>\n",
       "      <td>0</td>\n",
       "      <td>0</td>\n",
       "      <td>0</td>\n",
       "      <td>0</td>\n",
       "      <td>0</td>\n",
       "      <td>0</td>\n",
       "      <td>0</td>\n",
       "      <td>1</td>\n",
       "    </tr>\n",
       "    <tr>\n",
       "      <th>3</th>\n",
       "      <td>1</td>\n",
       "      <td>0</td>\n",
       "      <td>0</td>\n",
       "      <td>0</td>\n",
       "      <td>0</td>\n",
       "      <td>0</td>\n",
       "      <td>0</td>\n",
       "      <td>0</td>\n",
       "      <td>0</td>\n",
       "      <td>0</td>\n",
       "      <td>...</td>\n",
       "      <td>0</td>\n",
       "      <td>0</td>\n",
       "      <td>0</td>\n",
       "      <td>0</td>\n",
       "      <td>0</td>\n",
       "      <td>0</td>\n",
       "      <td>0</td>\n",
       "      <td>0</td>\n",
       "      <td>0</td>\n",
       "      <td>1</td>\n",
       "    </tr>\n",
       "    <tr>\n",
       "      <th>4</th>\n",
       "      <td>1</td>\n",
       "      <td>0</td>\n",
       "      <td>0</td>\n",
       "      <td>0</td>\n",
       "      <td>0</td>\n",
       "      <td>0</td>\n",
       "      <td>0</td>\n",
       "      <td>0</td>\n",
       "      <td>0</td>\n",
       "      <td>0</td>\n",
       "      <td>...</td>\n",
       "      <td>0</td>\n",
       "      <td>0</td>\n",
       "      <td>0</td>\n",
       "      <td>0</td>\n",
       "      <td>0</td>\n",
       "      <td>0</td>\n",
       "      <td>0</td>\n",
       "      <td>0</td>\n",
       "      <td>0</td>\n",
       "      <td>1</td>\n",
       "    </tr>\n",
       "    <tr>\n",
       "      <th>5</th>\n",
       "      <td>1</td>\n",
       "      <td>0</td>\n",
       "      <td>0</td>\n",
       "      <td>0</td>\n",
       "      <td>0</td>\n",
       "      <td>0</td>\n",
       "      <td>0</td>\n",
       "      <td>0</td>\n",
       "      <td>0</td>\n",
       "      <td>0</td>\n",
       "      <td>...</td>\n",
       "      <td>0</td>\n",
       "      <td>0</td>\n",
       "      <td>0</td>\n",
       "      <td>0</td>\n",
       "      <td>0</td>\n",
       "      <td>0</td>\n",
       "      <td>0</td>\n",
       "      <td>0</td>\n",
       "      <td>0</td>\n",
       "      <td>1</td>\n",
       "    </tr>\n",
       "    <tr>\n",
       "      <th>6</th>\n",
       "      <td>1</td>\n",
       "      <td>0</td>\n",
       "      <td>0</td>\n",
       "      <td>0</td>\n",
       "      <td>0</td>\n",
       "      <td>0</td>\n",
       "      <td>0</td>\n",
       "      <td>0</td>\n",
       "      <td>0</td>\n",
       "      <td>0</td>\n",
       "      <td>...</td>\n",
       "      <td>0</td>\n",
       "      <td>0</td>\n",
       "      <td>0</td>\n",
       "      <td>0</td>\n",
       "      <td>0</td>\n",
       "      <td>0</td>\n",
       "      <td>0</td>\n",
       "      <td>0</td>\n",
       "      <td>0</td>\n",
       "      <td>1</td>\n",
       "    </tr>\n",
       "  </tbody>\n",
       "</table>\n",
       "<p>5 rows × 128 columns</p>\n",
       "</div>"
      ],
      "text/plain": [
       "   c1000  c10000  c10001  c10003  c10012  c10019  c1002  c10020  c10022  \\\n",
       "2      1       0       0       0       0       0      0       0       0   \n",
       "3      1       0       0       0       0       0      0       0       0   \n",
       "4      1       0       0       0       0       0      0       0       0   \n",
       "5      1       0       0       0       0       0      0       0       0   \n",
       "6      1       0       0       0       0       0      0       0       0   \n",
       "\n",
       "   c10027    ...      c10442  c10451  c10454  c10455  c10458  c10459  c1046  \\\n",
       "2       0    ...           0       0       0       0       0       0      0   \n",
       "3       0    ...           0       0       0       0       0       0      0   \n",
       "4       0    ...           0       0       0       0       0       0      0   \n",
       "5       0    ...           0       0       0       0       0       0      0   \n",
       "6       0    ...           0       0       0       0       0       0      0   \n",
       "\n",
       "   c10463  c10467  intercept  \n",
       "2       0       0          1  \n",
       "3       0       0          1  \n",
       "4       0       0          1  \n",
       "5       0       0          1  \n",
       "6       0       0          1  \n",
       "\n",
       "[5 rows x 128 columns]"
      ]
     },
     "execution_count": 224,
     "metadata": {},
     "output_type": "execute_result"
    }
   ],
   "source": [
    "dum_df = pd.get_dummies(df_sub['contig'])\n",
    "dum_df['intercept'] = 1.0\n",
    "dum_df.head()"
   ]
  },
  {
   "cell_type": "code",
   "execution_count": null,
   "metadata": {
    "collapsed": true
   },
   "outputs": [],
   "source": []
  },
  {
   "cell_type": "code",
   "execution_count": 225,
   "metadata": {
    "collapsed": false
   },
   "outputs": [
    {
     "data": {
      "text/plain": [
       "Index([u'c1000', u'c10000', u'c10001', u'c10003', u'c10012', u'c10019',\n",
       "       u'c1002', u'c10020', u'c10022', u'c10027', \n",
       "       ...\n",
       "       u'c10442', u'c10451', u'c10454', u'c10455', u'c10458', u'c10459',\n",
       "       u'c1046', u'c10463', u'c10467', u'intercept'],\n",
       "      dtype='object', length=128)"
      ]
     },
     "execution_count": 225,
     "metadata": {},
     "output_type": "execute_result"
    }
   ],
   "source": [
    "train_cols = dum_df.columns\n",
    "train_cols"
   ]
  },
  {
   "cell_type": "code",
   "execution_count": 226,
   "metadata": {
    "collapsed": false
   },
   "outputs": [],
   "source": [
    "logit = sm.Logit(df_sub['allele'], dum_df[train_cols])"
   ]
  },
  {
   "cell_type": "code",
   "execution_count": 228,
   "metadata": {
    "collapsed": false
   },
   "outputs": [
    {
     "ename": "TypeError",
     "evalue": "information() takes exactly 2 arguments (1 given)",
     "output_type": "error",
     "traceback": [
      "\u001b[1;31m---------------------------------------------------------------------------\u001b[0m",
      "\u001b[1;31mTypeError\u001b[0m                                 Traceback (most recent call last)",
      "\u001b[1;32m<ipython-input-228-25db7c3d914b>\u001b[0m in \u001b[0;36m<module>\u001b[1;34m()\u001b[0m\n\u001b[1;32m----> 1\u001b[1;33m \u001b[0mlogit\u001b[0m\u001b[1;33m.\u001b[0m\u001b[0minformation\u001b[0m\u001b[1;33m(\u001b[0m\u001b[1;33m)\u001b[0m\u001b[1;33m\u001b[0m\u001b[0m\n\u001b[0m",
      "\u001b[1;31mTypeError\u001b[0m: information() takes exactly 2 arguments (1 given)"
     ]
    }
   ],
   "source": [
    "logit.information()"
   ]
  },
  {
   "cell_type": "code",
   "execution_count": 222,
   "metadata": {
    "collapsed": false
   },
   "outputs": [
    {
     "name": "stdout",
     "output_type": "stream",
     "text": [
      "Optimization terminated successfully.\n",
      "         Current function value: 0.687926\n",
      "         Iterations 5\n"
     ]
    }
   ],
   "source": [
    "result = logit.fit()"
   ]
  },
  {
   "cell_type": "code",
   "execution_count": 92,
   "metadata": {
    "collapsed": false,
    "scrolled": true
   },
   "outputs": [],
   "source": [
    "#result.summary()"
   ]
  },
  {
   "cell_type": "code",
   "execution_count": null,
   "metadata": {
    "collapsed": true
   },
   "outputs": [],
   "source": []
  },
  {
   "cell_type": "markdown",
   "metadata": {},
   "source": [
    "z-score vs allelic ratio "
   ]
  },
  {
   "cell_type": "markdown",
   "metadata": {},
   "source": [
    "bp postion"
   ]
  },
  {
   "cell_type": "markdown",
   "metadata": {},
   "source": [
    "qq plots"
   ]
  },
  {
   "cell_type": "code",
   "execution_count": null,
   "metadata": {
    "collapsed": true
   },
   "outputs": [],
   "source": []
  },
  {
   "cell_type": "code",
   "execution_count": 205,
   "metadata": {
    "collapsed": false
   },
   "outputs": [],
   "source": [
    "def write_allele_bias_file(vcf_file, out_file):\n",
    "    with open(vcf_file) as INFILE:\n",
    "        with open(out_file, 'w') as OUTFILE:\n",
    "            for line in INFILE:\n",
    "                if line.startswith('##'):\n",
    "                    print 'skipped!'\n",
    "                    pass\n",
    "                elif line.startswith('#CHROM'):\n",
    "                    header = line.strip().strip('#').split('\\t')\n",
    "                    inds = header[9:]\n",
    "                    #print(inds)\n",
    "                else:\n",
    "                    tabs = line.split('\\t')\n",
    "                    contig = tabs[0]\n",
    "                    pos = tabs[1]\n",
    "                    genotypes = tabs[9:]\n",
    "                    depth_a_of_ind = dict()\n",
    "                    depth_b_of_ind = dict()\n",
    "                    for gen_idx, gen in enumerate(genotypes):\n",
    "                        if gen.split(':')[0] in ['1/0', '0/1']: # if het\n",
    "                            depth_a_of_ind[inds[gen_idx]] = int(gen.split(':')[2].split(',')[0])\n",
    "                            depth_b_of_ind[inds[gen_idx]] = int(gen.split(':')[2].split(',')[1])\n",
    "                    for ind, depth_a in depth_a_of_ind.items():\n",
    "                        for xx in range(depth_a):\n",
    "                            OUTFILE.write('{}\\t{}\\t{}\\t{}\\n'.format(contig, pos, ind, '0'))\n",
    "                    for ind, depth_b in depth_b_of_ind.items():\n",
    "                        for xx in range(depth_b):\n",
    "                            OUTFILE.write('{}\\t{}\\t{}\\t{}\\n'.format(contig, pos, ind, '1'))"
   ]
  },
  {
   "cell_type": "code",
   "execution_count": 38,
   "metadata": {
    "collapsed": false
   },
   "outputs": [
    {
     "data": {
      "text/html": [
       "<div>\n",
       "<table border=\"1\" class=\"dataframe\">\n",
       "  <thead>\n",
       "    <tr style=\"text-align: right;\">\n",
       "      <th></th>\n",
       "      <th>contgis</th>\n",
       "      <th>pos</th>\n",
       "      <th>depth_a</th>\n",
       "      <th>depth_b</th>\n",
       "      <th>ratio</th>\n",
       "      <th>total_depth</th>\n",
       "      <th>std</th>\n",
       "      <th>z</th>\n",
       "      <th>p_val</th>\n",
       "    </tr>\n",
       "  </thead>\n",
       "  <tbody>\n",
       "    <tr>\n",
       "      <th>0</th>\n",
       "      <td>c1000</td>\n",
       "      <td>75</td>\n",
       "      <td>4191</td>\n",
       "      <td>5493</td>\n",
       "      <td>0.432776</td>\n",
       "      <td>9684</td>\n",
       "      <td>49.203658</td>\n",
       "      <td>-13.230724</td>\n",
       "      <td>0.000000</td>\n",
       "    </tr>\n",
       "    <tr>\n",
       "      <th>1</th>\n",
       "      <td>c1000</td>\n",
       "      <td>93</td>\n",
       "      <td>3928</td>\n",
       "      <td>2422</td>\n",
       "      <td>0.618583</td>\n",
       "      <td>6350</td>\n",
       "      <td>39.843444</td>\n",
       "      <td>18.898969</td>\n",
       "      <td>0.000000</td>\n",
       "    </tr>\n",
       "    <tr>\n",
       "      <th>4</th>\n",
       "      <td>c10001</td>\n",
       "      <td>81</td>\n",
       "      <td>1069</td>\n",
       "      <td>1053</td>\n",
       "      <td>0.503770</td>\n",
       "      <td>2122</td>\n",
       "      <td>23.032586</td>\n",
       "      <td>0.347334</td>\n",
       "      <td>0.364170</td>\n",
       "    </tr>\n",
       "    <tr>\n",
       "      <th>5</th>\n",
       "      <td>c10001</td>\n",
       "      <td>92</td>\n",
       "      <td>552</td>\n",
       "      <td>690</td>\n",
       "      <td>0.444444</td>\n",
       "      <td>1242</td>\n",
       "      <td>17.621010</td>\n",
       "      <td>-3.915780</td>\n",
       "      <td>0.000045</td>\n",
       "    </tr>\n",
       "    <tr>\n",
       "      <th>6</th>\n",
       "      <td>c10003</td>\n",
       "      <td>79</td>\n",
       "      <td>624</td>\n",
       "      <td>1223</td>\n",
       "      <td>0.337845</td>\n",
       "      <td>1847</td>\n",
       "      <td>21.488369</td>\n",
       "      <td>-13.937773</td>\n",
       "      <td>0.000000</td>\n",
       "    </tr>\n",
       "  </tbody>\n",
       "</table>\n",
       "</div>"
      ],
      "text/plain": [
       "  contgis  pos  depth_a  depth_b     ratio  total_depth        std          z  \\\n",
       "0   c1000   75     4191     5493  0.432776         9684  49.203658 -13.230724   \n",
       "1   c1000   93     3928     2422  0.618583         6350  39.843444  18.898969   \n",
       "4  c10001   81     1069     1053  0.503770         2122  23.032586   0.347334   \n",
       "5  c10001   92      552      690  0.444444         1242  17.621010  -3.915780   \n",
       "6  c10003   79      624     1223  0.337845         1847  21.488369 -13.937773   \n",
       "\n",
       "      p_val  \n",
       "0  0.000000  \n",
       "1  0.000000  \n",
       "4  0.364170  \n",
       "5  0.000045  \n",
       "6  0.000000  "
      ]
     },
     "execution_count": 38,
     "metadata": {},
     "output_type": "execute_result"
    }
   ],
   "source": [
    "depths['p_val'] = 1 - scipy.special.ndtr(np.abs(depths['z']))\n",
    "depths.head()"
   ]
  },
  {
   "cell_type": "code",
   "execution_count": null,
   "metadata": {
    "collapsed": true
   },
   "outputs": [],
   "source": [
    "ob = -np.log10(sorted(depths['p_val']))\n",
    "ex = -np.log10(np.linspace(0,1.0,len(depths)))"
   ]
  },
  {
   "cell_type": "code",
   "execution_count": 12,
   "metadata": {
    "collapsed": false
   },
   "outputs": [
    {
     "data": {
      "text/plain": [
       "15.811388300841896"
      ]
     },
     "execution_count": 12,
     "metadata": {},
     "output_type": "execute_result"
    }
   ],
   "source": [
    "rv = scipy.stats.binom(n = 1000, p = .5)\n",
    "rv.interval(.50)\n",
    "rv.std()"
   ]
  },
  {
   "cell_type": "code",
   "execution_count": 250,
   "metadata": {
    "collapsed": false
   },
   "outputs": [],
   "source": [
    "plt.hist(scipy.stats.mstats.zscore(depths['ratio']))\n",
    "plt.show()"
   ]
  },
  {
   "cell_type": "code",
   "execution_count": null,
   "metadata": {
    "collapsed": true
   },
   "outputs": [],
   "source": [
    "plt.hist(depths['ratio'], bins = 100)\n",
    "plt.show()"
   ]
  },
  {
   "cell_type": "code",
   "execution_count": null,
   "metadata": {
    "collapsed": true
   },
   "outputs": [],
   "source": []
  },
  {
   "cell_type": "code",
   "execution_count": null,
   "metadata": {
    "collapsed": true
   },
   "outputs": [],
   "source": []
  },
  {
   "cell_type": "code",
   "execution_count": 159,
   "metadata": {
    "collapsed": false
   },
   "outputs": [],
   "source": [
    "import vcf\n",
    "def write_allele_bias_file(vcf_file, out_file):\n",
    "    vcf_reader = vcf.Reader(open(vcf_file, 'r'))\n",
    "    record = vcf_reader.next()\n",
    "    print record\n",
    "        #record.get_hets()\n",
    "    with open(out_file, 'w') as OUTFILE:\n",
    "        pass\n",
    "            "
   ]
  },
  {
   "cell_type": "code",
   "execution_count": 160,
   "metadata": {
    "collapsed": false
   },
   "outputs": [
    {
     "ename": "ValueError",
     "evalue": "invalid literal for float(): 4,1",
     "output_type": "error",
     "traceback": [
      "\u001b[1;31m---------------------------------------------------------------------------\u001b[0m",
      "\u001b[1;31mValueError\u001b[0m                                Traceback (most recent call last)",
      "\u001b[1;32m<ipython-input-160-6ba6f016adcf>\u001b[0m in \u001b[0;36m<module>\u001b[1;34m()\u001b[0m\n\u001b[1;32m----> 1\u001b[1;33m \u001b[0mwrite_allele_bias_file\u001b[0m\u001b[1;33m(\u001b[0m\u001b[0mvcf_file\u001b[0m\u001b[1;33m=\u001b[0m\u001b[1;34m'/home/ipseg/Desktop/waples/temp/batch_4.vcf'\u001b[0m\u001b[1;33m,\u001b[0m \u001b[0mout_file\u001b[0m \u001b[1;33m=\u001b[0m \u001b[1;34m'/home/ipseg/Desktop/waples/temp/batch_4.AB'\u001b[0m \u001b[1;33m)\u001b[0m\u001b[1;33m\u001b[0m\u001b[0m\n\u001b[0m",
      "\u001b[1;32m<ipython-input-159-2ceef230540c>\u001b[0m in \u001b[0;36mwrite_allele_bias_file\u001b[1;34m(vcf_file, out_file)\u001b[0m\n\u001b[0;32m      2\u001b[0m \u001b[1;32mdef\u001b[0m \u001b[0mwrite_allele_bias_file\u001b[0m\u001b[1;33m(\u001b[0m\u001b[0mvcf_file\u001b[0m\u001b[1;33m,\u001b[0m \u001b[0mout_file\u001b[0m\u001b[1;33m)\u001b[0m\u001b[1;33m:\u001b[0m\u001b[1;33m\u001b[0m\u001b[0m\n\u001b[0;32m      3\u001b[0m     \u001b[0mvcf_reader\u001b[0m \u001b[1;33m=\u001b[0m \u001b[0mvcf\u001b[0m\u001b[1;33m.\u001b[0m\u001b[0mReader\u001b[0m\u001b[1;33m(\u001b[0m\u001b[0mopen\u001b[0m\u001b[1;33m(\u001b[0m\u001b[0mvcf_file\u001b[0m\u001b[1;33m,\u001b[0m \u001b[1;34m'r'\u001b[0m\u001b[1;33m)\u001b[0m\u001b[1;33m)\u001b[0m\u001b[1;33m\u001b[0m\u001b[0m\n\u001b[1;32m----> 4\u001b[1;33m     \u001b[0mrecord\u001b[0m \u001b[1;33m=\u001b[0m \u001b[0mvcf_reader\u001b[0m\u001b[1;33m.\u001b[0m\u001b[0mnext\u001b[0m\u001b[1;33m(\u001b[0m\u001b[1;33m)\u001b[0m\u001b[1;33m\u001b[0m\u001b[0m\n\u001b[0m\u001b[0;32m      5\u001b[0m     \u001b[1;32mprint\u001b[0m \u001b[0mrecord\u001b[0m\u001b[1;33m\u001b[0m\u001b[0m\n\u001b[0;32m      6\u001b[0m         \u001b[1;31m#record.get_hets()\u001b[0m\u001b[1;33m\u001b[0m\u001b[1;33m\u001b[0m\u001b[0m\n",
      "\u001b[1;32m/home/ipseg/anaconda/lib/python2.7/site-packages/vcf/parser.pyc\u001b[0m in \u001b[0;36mnext\u001b[1;34m(self)\u001b[0m\n\u001b[0;32m    565\u001b[0m \u001b[1;33m\u001b[0m\u001b[0m\n\u001b[0;32m    566\u001b[0m         \u001b[1;32mif\u001b[0m \u001b[0mfmt\u001b[0m \u001b[1;32mis\u001b[0m \u001b[1;32mnot\u001b[0m \u001b[0mNone\u001b[0m\u001b[1;33m:\u001b[0m\u001b[1;33m\u001b[0m\u001b[0m\n\u001b[1;32m--> 567\u001b[1;33m             \u001b[0msamples\u001b[0m \u001b[1;33m=\u001b[0m \u001b[0mself\u001b[0m\u001b[1;33m.\u001b[0m\u001b[0m_parse_samples\u001b[0m\u001b[1;33m(\u001b[0m\u001b[0mrow\u001b[0m\u001b[1;33m[\u001b[0m\u001b[1;36m9\u001b[0m\u001b[1;33m:\u001b[0m\u001b[1;33m]\u001b[0m\u001b[1;33m,\u001b[0m \u001b[0mfmt\u001b[0m\u001b[1;33m,\u001b[0m \u001b[0mrecord\u001b[0m\u001b[1;33m)\u001b[0m\u001b[1;33m\u001b[0m\u001b[0m\n\u001b[0m\u001b[0;32m    568\u001b[0m             \u001b[0mrecord\u001b[0m\u001b[1;33m.\u001b[0m\u001b[0msamples\u001b[0m \u001b[1;33m=\u001b[0m \u001b[0msamples\u001b[0m\u001b[1;33m\u001b[0m\u001b[0m\n\u001b[0;32m    569\u001b[0m \u001b[1;33m\u001b[0m\u001b[0m\n",
      "\u001b[1;32m/home/ipseg/anaconda/lib/python2.7/site-packages/vcf/parser.pyc\u001b[0m in \u001b[0;36m_parse_samples\u001b[1;34m(self, samples, samp_fmt, site)\u001b[0m\n\u001b[0;32m    436\u001b[0m         \u001b[1;32mif\u001b[0m \u001b[0mcparse\u001b[0m\u001b[1;33m:\u001b[0m\u001b[1;33m\u001b[0m\u001b[0m\n\u001b[0;32m    437\u001b[0m             return cparse.parse_samples(\n\u001b[1;32m--> 438\u001b[1;33m                 self.samples, samples, samp_fmt, samp_fmt._types, samp_fmt._nums, site)\n\u001b[0m\u001b[0;32m    439\u001b[0m \u001b[1;33m\u001b[0m\u001b[0m\n\u001b[0;32m    440\u001b[0m         \u001b[0msamp_data\u001b[0m \u001b[1;33m=\u001b[0m \u001b[1;33m[\u001b[0m\u001b[1;33m]\u001b[0m\u001b[1;33m\u001b[0m\u001b[0m\n",
      "\u001b[1;32m/home/ipseg/anaconda/lib/python2.7/site-packages/vcf/cparse.pyx\u001b[0m in \u001b[0;36mvcf.cparse.parse_samples (vcf/cparse.c:1456)\u001b[1;34m()\u001b[0m\n\u001b[0;32m     52\u001b[0m                         \u001b[0msampdat\u001b[0m\u001b[1;33m[\u001b[0m\u001b[0mj\u001b[0m\u001b[1;33m]\u001b[0m \u001b[1;33m=\u001b[0m \u001b[0mint\u001b[0m\u001b[1;33m(\u001b[0m\u001b[0mvals\u001b[0m\u001b[1;33m)\u001b[0m\u001b[1;33m\u001b[0m\u001b[0m\n\u001b[0;32m     53\u001b[0m                     \u001b[1;32mexcept\u001b[0m \u001b[0mValueError\u001b[0m\u001b[1;33m:\u001b[0m\u001b[1;33m\u001b[0m\u001b[0m\n\u001b[1;32m---> 54\u001b[1;33m                         \u001b[0msampdat\u001b[0m\u001b[1;33m[\u001b[0m\u001b[0mj\u001b[0m\u001b[1;33m]\u001b[0m \u001b[1;33m=\u001b[0m \u001b[0mfloat\u001b[0m\u001b[1;33m(\u001b[0m\u001b[0mvals\u001b[0m\u001b[1;33m)\u001b[0m\u001b[1;33m\u001b[0m\u001b[0m\n\u001b[0m\u001b[0;32m     55\u001b[0m                 \u001b[1;32melif\u001b[0m \u001b[0mentry_type\u001b[0m \u001b[1;33m==\u001b[0m \u001b[0mFLOAT\u001b[0m \u001b[1;32mor\u001b[0m \u001b[0mentry_type\u001b[0m \u001b[1;33m==\u001b[0m \u001b[0mNUMERIC\u001b[0m\u001b[1;33m:\u001b[0m\u001b[1;33m\u001b[0m\u001b[0m\n\u001b[0;32m     56\u001b[0m                     \u001b[0msampdat\u001b[0m\u001b[1;33m[\u001b[0m\u001b[0mj\u001b[0m\u001b[1;33m]\u001b[0m \u001b[1;33m=\u001b[0m \u001b[0mfloat\u001b[0m\u001b[1;33m(\u001b[0m\u001b[0mvals\u001b[0m\u001b[1;33m)\u001b[0m\u001b[1;33m\u001b[0m\u001b[0m\n",
      "\u001b[1;31mValueError\u001b[0m: invalid literal for float(): 4,1"
     ]
    }
   ],
   "source": [
    "write_allele_bias_file(vcf_file='/home/ipseg/Desktop/waples/temp/batch_4.vcf', out_file = '/home/ipseg/Desktop/waples/temp/batch_4.AB' )"
   ]
  },
  {
   "cell_type": "code",
   "execution_count": 135,
   "metadata": {
    "collapsed": false
   },
   "outputs": [
    {
     "data": {
      "text/html": [
       "<div>\n",
       "<table border=\"1\" class=\"dataframe\">\n",
       "  <thead>\n",
       "    <tr style=\"text-align: right;\">\n",
       "      <th></th>\n",
       "      <th>locus</th>\n",
       "      <th>ind</th>\n",
       "      <th>allele</th>\n",
       "    </tr>\n",
       "  </thead>\n",
       "  <tbody>\n",
       "    <tr>\n",
       "      <th>0</th>\n",
       "      <td>l1</td>\n",
       "      <td>i1</td>\n",
       "      <td>0</td>\n",
       "    </tr>\n",
       "    <tr>\n",
       "      <th>1</th>\n",
       "      <td>l1</td>\n",
       "      <td>i1</td>\n",
       "      <td>0</td>\n",
       "    </tr>\n",
       "    <tr>\n",
       "      <th>2</th>\n",
       "      <td>l1</td>\n",
       "      <td>i1</td>\n",
       "      <td>0</td>\n",
       "    </tr>\n",
       "    <tr>\n",
       "      <th>3</th>\n",
       "      <td>l1</td>\n",
       "      <td>i1</td>\n",
       "      <td>0</td>\n",
       "    </tr>\n",
       "    <tr>\n",
       "      <th>4</th>\n",
       "      <td>l1</td>\n",
       "      <td>i1</td>\n",
       "      <td>1</td>\n",
       "    </tr>\n",
       "  </tbody>\n",
       "</table>\n",
       "</div>"
      ],
      "text/plain": [
       "  locus ind  allele\n",
       "0    l1  i1       0\n",
       "1    l1  i1       0\n",
       "2    l1  i1       0\n",
       "3    l1  i1       0\n",
       "4    l1  i1       1"
      ]
     },
     "execution_count": 135,
     "metadata": {},
     "output_type": "execute_result"
    }
   ],
   "source": [
    "df = pd.read_csv(\"/home/ipseg/Desktop/waples/temp/allele_bias.txt\", sep = '\\t')\n",
    "df.head()"
   ]
  },
  {
   "cell_type": "code",
   "execution_count": 138,
   "metadata": {
    "collapsed": false
   },
   "outputs": [
    {
     "data": {
      "text/html": [
       "<div>\n",
       "<table border=\"1\" class=\"dataframe\">\n",
       "  <thead>\n",
       "    <tr style=\"text-align: right;\">\n",
       "      <th></th>\n",
       "      <th>allele</th>\n",
       "      <th>locus_l1</th>\n",
       "      <th>locus_l2</th>\n",
       "      <th>ind_i1</th>\n",
       "      <th>ind_i2</th>\n",
       "      <th>ind_i3</th>\n",
       "      <th>ind_i4</th>\n",
       "      <th>ind_i5</th>\n",
       "    </tr>\n",
       "  </thead>\n",
       "  <tbody>\n",
       "    <tr>\n",
       "      <th>0</th>\n",
       "      <td>0</td>\n",
       "      <td>1</td>\n",
       "      <td>0</td>\n",
       "      <td>1</td>\n",
       "      <td>0</td>\n",
       "      <td>0</td>\n",
       "      <td>0</td>\n",
       "      <td>0</td>\n",
       "    </tr>\n",
       "    <tr>\n",
       "      <th>1</th>\n",
       "      <td>0</td>\n",
       "      <td>1</td>\n",
       "      <td>0</td>\n",
       "      <td>1</td>\n",
       "      <td>0</td>\n",
       "      <td>0</td>\n",
       "      <td>0</td>\n",
       "      <td>0</td>\n",
       "    </tr>\n",
       "    <tr>\n",
       "      <th>2</th>\n",
       "      <td>0</td>\n",
       "      <td>1</td>\n",
       "      <td>0</td>\n",
       "      <td>1</td>\n",
       "      <td>0</td>\n",
       "      <td>0</td>\n",
       "      <td>0</td>\n",
       "      <td>0</td>\n",
       "    </tr>\n",
       "    <tr>\n",
       "      <th>3</th>\n",
       "      <td>0</td>\n",
       "      <td>1</td>\n",
       "      <td>0</td>\n",
       "      <td>1</td>\n",
       "      <td>0</td>\n",
       "      <td>0</td>\n",
       "      <td>0</td>\n",
       "      <td>0</td>\n",
       "    </tr>\n",
       "    <tr>\n",
       "      <th>4</th>\n",
       "      <td>1</td>\n",
       "      <td>1</td>\n",
       "      <td>0</td>\n",
       "      <td>1</td>\n",
       "      <td>0</td>\n",
       "      <td>0</td>\n",
       "      <td>0</td>\n",
       "      <td>0</td>\n",
       "    </tr>\n",
       "  </tbody>\n",
       "</table>\n",
       "</div>"
      ],
      "text/plain": [
       "   allele  locus_l1  locus_l2  ind_i1  ind_i2  ind_i3  ind_i4  ind_i5\n",
       "0       0         1         0       1       0       0       0       0\n",
       "1       0         1         0       1       0       0       0       0\n",
       "2       0         1         0       1       0       0       0       0\n",
       "3       0         1         0       1       0       0       0       0\n",
       "4       1         1         0       1       0       0       0       0"
      ]
     },
     "execution_count": 138,
     "metadata": {},
     "output_type": "execute_result"
    }
   ],
   "source": [
    "dum_df = pd.get_dummies(df)\n",
    "dum_df.head()"
   ]
  },
  {
   "cell_type": "code",
   "execution_count": 145,
   "metadata": {
    "collapsed": false
   },
   "outputs": [
    {
     "data": {
      "text/plain": [
       "Index([u'locus_l1', u'locus_l2'], dtype='object')"
      ]
     },
     "execution_count": 145,
     "metadata": {},
     "output_type": "execute_result"
    }
   ],
   "source": [
    "train_cols = dum_df.columns[1:3]\n",
    "train_cols"
   ]
  },
  {
   "cell_type": "code",
   "execution_count": 146,
   "metadata": {
    "collapsed": false
   },
   "outputs": [],
   "source": [
    "logit = sm.Logit(dum_df['allele'], dum_df[train_cols])"
   ]
  },
  {
   "cell_type": "code",
   "execution_count": 147,
   "metadata": {
    "collapsed": false
   },
   "outputs": [
    {
     "name": "stdout",
     "output_type": "stream",
     "text": [
      "Optimization terminated successfully.\n",
      "         Current function value: 0.676627\n",
      "         Iterations 4\n"
     ]
    }
   ],
   "source": [
    "# fit the model\n",
    "result = logit.fit()"
   ]
  },
  {
   "cell_type": "code",
   "execution_count": 148,
   "metadata": {
    "collapsed": false
   },
   "outputs": [
    {
     "name": "stdout",
     "output_type": "stream",
     "text": [
      "                           Logit Regression Results                           \n",
      "==============================================================================\n",
      "Dep. Variable:                 allele   No. Observations:                  102\n",
      "Model:                          Logit   Df Residuals:                      100\n",
      "Method:                           MLE   Df Model:                            1\n",
      "Date:                Tue, 16 Jun 2015   Pseudo R-squ.:                 0.01397\n",
      "Time:                        16:23:21   Log-Likelihood:                -69.016\n",
      "converged:                       True   LL-Null:                       -69.993\n",
      "                                        LLR p-value:                    0.1620\n",
      "==============================================================================\n",
      "                 coef    std err          z      P>|z|      [95.0% Conf. Int.]\n",
      "------------------------------------------------------------------------------\n",
      "locus_l1      -0.5213      0.290     -1.800      0.072        -1.089     0.046\n",
      "locus_l2       0.0392      0.280      0.140      0.889        -0.510     0.588\n",
      "==============================================================================\n"
     ]
    }
   ],
   "source": [
    "print result.summary()"
   ]
  },
  {
   "cell_type": "code",
   "execution_count": 149,
   "metadata": {
    "collapsed": false
   },
   "outputs": [
    {
     "data": {
      "text/html": [
       "<div>\n",
       "<table border=\"1\" class=\"dataframe\">\n",
       "  <thead>\n",
       "    <tr style=\"text-align: right;\">\n",
       "      <th></th>\n",
       "      <th>0</th>\n",
       "      <th>1</th>\n",
       "    </tr>\n",
       "  </thead>\n",
       "  <tbody>\n",
       "    <tr>\n",
       "      <th>locus_l1</th>\n",
       "      <td>-1.088948</td>\n",
       "      <td>0.046354</td>\n",
       "    </tr>\n",
       "    <tr>\n",
       "      <th>locus_l2</th>\n",
       "      <td>-0.509785</td>\n",
       "      <td>0.588226</td>\n",
       "    </tr>\n",
       "  </tbody>\n",
       "</table>\n",
       "</div>"
      ],
      "text/plain": [
       "                 0         1\n",
       "locus_l1 -1.088948  0.046354\n",
       "locus_l2 -0.509785  0.588226"
      ]
     },
     "execution_count": 149,
     "metadata": {},
     "output_type": "execute_result"
    }
   ],
   "source": [
    "result.conf_int()"
   ]
  },
  {
   "cell_type": "code",
   "execution_count": 150,
   "metadata": {
    "collapsed": false
   },
   "outputs": [
    {
     "data": {
      "text/plain": [
       "locus_l1   -0.521297\n",
       "locus_l2    0.039221\n",
       "dtype: float64"
      ]
     },
     "execution_count": 150,
     "metadata": {},
     "output_type": "execute_result"
    }
   ],
   "source": [
    "result.params"
   ]
  },
  {
   "cell_type": "code",
   "execution_count": 120,
   "metadata": {
    "collapsed": false
   },
   "outputs": [
    {
     "data": {
      "text/html": [
       "<div>\n",
       "<table border=\"1\" class=\"dataframe\">\n",
       "  <thead>\n",
       "    <tr style=\"text-align: right;\">\n",
       "      <th></th>\n",
       "      <th>admit</th>\n",
       "      <th>gre</th>\n",
       "      <th>gpa</th>\n",
       "      <th>prestige</th>\n",
       "    </tr>\n",
       "  </thead>\n",
       "  <tbody>\n",
       "    <tr>\n",
       "      <th>0</th>\n",
       "      <td>0</td>\n",
       "      <td>380</td>\n",
       "      <td>3.61</td>\n",
       "      <td>3</td>\n",
       "    </tr>\n",
       "    <tr>\n",
       "      <th>1</th>\n",
       "      <td>1</td>\n",
       "      <td>660</td>\n",
       "      <td>3.67</td>\n",
       "      <td>3</td>\n",
       "    </tr>\n",
       "    <tr>\n",
       "      <th>2</th>\n",
       "      <td>1</td>\n",
       "      <td>800</td>\n",
       "      <td>4.00</td>\n",
       "      <td>1</td>\n",
       "    </tr>\n",
       "    <tr>\n",
       "      <th>3</th>\n",
       "      <td>1</td>\n",
       "      <td>640</td>\n",
       "      <td>3.19</td>\n",
       "      <td>4</td>\n",
       "    </tr>\n",
       "    <tr>\n",
       "      <th>4</th>\n",
       "      <td>0</td>\n",
       "      <td>520</td>\n",
       "      <td>2.93</td>\n",
       "      <td>4</td>\n",
       "    </tr>\n",
       "  </tbody>\n",
       "</table>\n",
       "</div>"
      ],
      "text/plain": [
       "   admit  gre   gpa  prestige\n",
       "0      0  380  3.61         3\n",
       "1      1  660  3.67         3\n",
       "2      1  800  4.00         1\n",
       "3      1  640  3.19         4\n",
       "4      0  520  2.93         4"
      ]
     },
     "execution_count": 120,
     "metadata": {},
     "output_type": "execute_result"
    }
   ],
   "source": [
    "df = pd.read_csv(\"http://www.ats.ucla.edu/stat/data/binary.csv\")\n",
    "df.columns = [\"admit\", \"gre\", \"gpa\", \"prestige\"]\n",
    "df.head()"
   ]
  },
  {
   "cell_type": "code",
   "execution_count": 121,
   "metadata": {
    "collapsed": false
   },
   "outputs": [
    {
     "data": {
      "text/html": [
       "<div>\n",
       "<table border=\"1\" class=\"dataframe\">\n",
       "  <thead>\n",
       "    <tr style=\"text-align: right;\">\n",
       "      <th></th>\n",
       "      <th>prestige_1</th>\n",
       "      <th>prestige_2</th>\n",
       "      <th>prestige_3</th>\n",
       "      <th>prestige_4</th>\n",
       "    </tr>\n",
       "  </thead>\n",
       "  <tbody>\n",
       "    <tr>\n",
       "      <th>0</th>\n",
       "      <td>0</td>\n",
       "      <td>0</td>\n",
       "      <td>1</td>\n",
       "      <td>0</td>\n",
       "    </tr>\n",
       "    <tr>\n",
       "      <th>1</th>\n",
       "      <td>0</td>\n",
       "      <td>0</td>\n",
       "      <td>1</td>\n",
       "      <td>0</td>\n",
       "    </tr>\n",
       "    <tr>\n",
       "      <th>2</th>\n",
       "      <td>1</td>\n",
       "      <td>0</td>\n",
       "      <td>0</td>\n",
       "      <td>0</td>\n",
       "    </tr>\n",
       "    <tr>\n",
       "      <th>3</th>\n",
       "      <td>0</td>\n",
       "      <td>0</td>\n",
       "      <td>0</td>\n",
       "      <td>1</td>\n",
       "    </tr>\n",
       "    <tr>\n",
       "      <th>4</th>\n",
       "      <td>0</td>\n",
       "      <td>0</td>\n",
       "      <td>0</td>\n",
       "      <td>1</td>\n",
       "    </tr>\n",
       "  </tbody>\n",
       "</table>\n",
       "</div>"
      ],
      "text/plain": [
       "   prestige_1  prestige_2  prestige_3  prestige_4\n",
       "0           0           0           1           0\n",
       "1           0           0           1           0\n",
       "2           1           0           0           0\n",
       "3           0           0           0           1\n",
       "4           0           0           0           1"
      ]
     },
     "execution_count": 121,
     "metadata": {},
     "output_type": "execute_result"
    }
   ],
   "source": [
    "dummy_ranks = pd.get_dummies(df['prestige'], prefix='prestige')\n",
    "dummy_ranks.head()"
   ]
  },
  {
   "cell_type": "code",
   "execution_count": 123,
   "metadata": {
    "collapsed": false
   },
   "outputs": [
    {
     "data": {
      "text/html": [
       "<div>\n",
       "<table border=\"1\" class=\"dataframe\">\n",
       "  <thead>\n",
       "    <tr style=\"text-align: right;\">\n",
       "      <th></th>\n",
       "      <th>admit</th>\n",
       "      <th>gre</th>\n",
       "      <th>gpa</th>\n",
       "      <th>prestige_2</th>\n",
       "      <th>prestige_3</th>\n",
       "      <th>prestige_4</th>\n",
       "      <th>intercept</th>\n",
       "    </tr>\n",
       "  </thead>\n",
       "  <tbody>\n",
       "    <tr>\n",
       "      <th>0</th>\n",
       "      <td>0</td>\n",
       "      <td>380</td>\n",
       "      <td>3.61</td>\n",
       "      <td>0</td>\n",
       "      <td>1</td>\n",
       "      <td>0</td>\n",
       "      <td>1</td>\n",
       "    </tr>\n",
       "    <tr>\n",
       "      <th>1</th>\n",
       "      <td>1</td>\n",
       "      <td>660</td>\n",
       "      <td>3.67</td>\n",
       "      <td>0</td>\n",
       "      <td>1</td>\n",
       "      <td>0</td>\n",
       "      <td>1</td>\n",
       "    </tr>\n",
       "    <tr>\n",
       "      <th>2</th>\n",
       "      <td>1</td>\n",
       "      <td>800</td>\n",
       "      <td>4.00</td>\n",
       "      <td>0</td>\n",
       "      <td>0</td>\n",
       "      <td>0</td>\n",
       "      <td>1</td>\n",
       "    </tr>\n",
       "    <tr>\n",
       "      <th>3</th>\n",
       "      <td>1</td>\n",
       "      <td>640</td>\n",
       "      <td>3.19</td>\n",
       "      <td>0</td>\n",
       "      <td>0</td>\n",
       "      <td>1</td>\n",
       "      <td>1</td>\n",
       "    </tr>\n",
       "    <tr>\n",
       "      <th>4</th>\n",
       "      <td>0</td>\n",
       "      <td>520</td>\n",
       "      <td>2.93</td>\n",
       "      <td>0</td>\n",
       "      <td>0</td>\n",
       "      <td>1</td>\n",
       "      <td>1</td>\n",
       "    </tr>\n",
       "  </tbody>\n",
       "</table>\n",
       "</div>"
      ],
      "text/plain": [
       "   admit  gre   gpa  prestige_2  prestige_3  prestige_4  intercept\n",
       "0      0  380  3.61           0           1           0          1\n",
       "1      1  660  3.67           0           1           0          1\n",
       "2      1  800  4.00           0           0           0          1\n",
       "3      1  640  3.19           0           0           1          1\n",
       "4      0  520  2.93           0           0           1          1"
      ]
     },
     "execution_count": 123,
     "metadata": {},
     "output_type": "execute_result"
    }
   ],
   "source": [
    "cols_to_keep = ['admit', 'gre', 'gpa']\n",
    "data = df[cols_to_keep].join(dummy_ranks.ix[:, 'prestige_2':])\n",
    "data['intercept'] = 1.0\n",
    "data.head()"
   ]
  },
  {
   "cell_type": "code",
   "execution_count": 124,
   "metadata": {
    "collapsed": false
   },
   "outputs": [
    {
     "name": "stdout",
     "output_type": "stream",
     "text": [
      "Optimization terminated successfully.\n",
      "         Current function value: 0.573147\n",
      "         Iterations 6\n"
     ]
    }
   ],
   "source": [
    "train_cols = data.columns[1:]\n",
    " \n",
    "logit = sm.Logit(data['admit'], data[train_cols])\n",
    " \n",
    "# fit the model\n",
    "result = logit.fit()"
   ]
  },
  {
   "cell_type": "code",
   "execution_count": 125,
   "metadata": {
    "collapsed": false
   },
   "outputs": [
    {
     "name": "stdout",
     "output_type": "stream",
     "text": [
      "                           Logit Regression Results                           \n",
      "==============================================================================\n",
      "Dep. Variable:                  admit   No. Observations:                  400\n",
      "Model:                          Logit   Df Residuals:                      394\n",
      "Method:                           MLE   Df Model:                            5\n",
      "Date:                Tue, 16 Jun 2015   Pseudo R-squ.:                 0.08292\n",
      "Time:                        16:06:29   Log-Likelihood:                -229.26\n",
      "converged:                       True   LL-Null:                       -249.99\n",
      "                                        LLR p-value:                 7.578e-08\n",
      "==============================================================================\n",
      "                 coef    std err          z      P>|z|      [95.0% Conf. Int.]\n",
      "------------------------------------------------------------------------------\n",
      "gre            0.0023      0.001      2.070      0.038         0.000     0.004\n",
      "gpa            0.8040      0.332      2.423      0.015         0.154     1.454\n",
      "prestige_2    -0.6754      0.316     -2.134      0.033        -1.296    -0.055\n",
      "prestige_3    -1.3402      0.345     -3.881      0.000        -2.017    -0.663\n",
      "prestige_4    -1.5515      0.418     -3.713      0.000        -2.370    -0.733\n",
      "intercept     -3.9900      1.140     -3.500      0.000        -6.224    -1.756\n",
      "==============================================================================\n"
     ]
    }
   ],
   "source": [
    "print result.summary()"
   ]
  },
  {
   "cell_type": "code",
   "execution_count": null,
   "metadata": {
    "collapsed": true
   },
   "outputs": [],
   "source": []
  },
  {
   "cell_type": "code",
   "execution_count": null,
   "metadata": {
    "collapsed": true
   },
   "outputs": [],
   "source": []
  },
  {
   "cell_type": "code",
   "execution_count": 113,
   "metadata": {
    "collapsed": false
   },
   "outputs": [
    {
     "data": {
      "text/plain": [
       "[0.78384630220949836,\n",
       " 0.13249816396273675,\n",
       " 3.5881996154785156e-05,\n",
       " 0.625,\n",
       " 0.063914656639099121,\n",
       " 0.72010013181716115,\n",
       " 0.087158553302288042,\n",
       " 3.8558151572942747e-05,\n",
       " 0.0087717144570601362,\n",
       " 0.012939453124999998,\n",
       " 0.38769531250000011,\n",
       " 0.32223632035754712,\n",
       " 0.4868502416647969]"
      ]
     },
     "execution_count": 113,
     "metadata": {},
     "output_type": "execute_result"
    }
   ],
   "source": [
    "[scipy.stats.binom.cdf(a, a+b, 0.5) for a,b in ab]\n",
    "[scipy.stats.binom_test(xx) for xx in ab]"
   ]
  },
  {
   "cell_type": "code",
   "execution_count": null,
   "metadata": {
    "collapsed": true
   },
   "outputs": [],
   "source": [
    "getting at a "
   ]
  },
  {
   "cell_type": "code",
   "execution_count": 52,
   "metadata": {
    "collapsed": false
   },
   "outputs": [
    {
     "data": {
      "text/plain": [
       "[0.21217811107635506,\n",
       " 0.066249081981368377,\n",
       " 1.7940998077392578e-05,\n",
       " 1.0,\n",
       " 0.031957328319549561,\n",
       " 0.76343517005443584,\n",
       " 0.043579276651144021,\n",
       " 0.99999691755510867,\n",
       " 0.99783255955824635,\n",
       " 0.0064697265624999991,\n",
       " 0.63671874999999989,\n",
       " 0.89868062446772967,\n",
       " 0.24342512083239845]"
      ]
     },
     "execution_count": 52,
     "metadata": {},
     "output_type": "execute_result"
    }
   ],
   "source": [
    "[scipy.stats.binom.cdf(a, a+b, 0.5) for a,b in ab]"
   ]
  },
  {
   "cell_type": "code",
   "execution_count": 47,
   "metadata": {
    "collapsed": false
   },
   "outputs": [
    {
     "data": {
      "text/plain": [
       "array([ 0.25,  0.5 ,  0.25])"
      ]
     },
     "execution_count": 47,
     "metadata": {},
     "output_type": "execute_result"
    }
   ],
   "source": [
    "scipy.stats.binom.pmf([0,1,2], 2, 0.5)"
   ]
  },
  {
   "cell_type": "code",
   "execution_count": 42,
   "metadata": {
    "collapsed": false
   },
   "outputs": [
    {
     "ename": "TypeError",
     "evalue": "isf() got an unexpected keyword argument 'x'",
     "output_type": "error",
     "traceback": [
      "\u001b[1;31m---------------------------------------------------------------------------\u001b[0m",
      "\u001b[1;31mTypeError\u001b[0m                                 Traceback (most recent call last)",
      "\u001b[1;32m<ipython-input-42-8ae8a3774840>\u001b[0m in \u001b[0;36m<module>\u001b[1;34m()\u001b[0m\n\u001b[0;32m      1\u001b[0m \u001b[1;32mimport\u001b[0m \u001b[0mnumpy\u001b[0m \u001b[1;32mas\u001b[0m \u001b[0mnp\u001b[0m\u001b[1;33m\u001b[0m\u001b[0m\n\u001b[1;32m----> 2\u001b[1;33m \u001b[0mscipy\u001b[0m\u001b[1;33m.\u001b[0m\u001b[0mstats\u001b[0m\u001b[1;33m.\u001b[0m\u001b[0mbinom\u001b[0m\u001b[1;33m(\u001b[0m\u001b[0mn\u001b[0m \u001b[1;33m=\u001b[0m \u001b[1;36m10\u001b[0m\u001b[1;33m,\u001b[0m \u001b[0mp\u001b[0m \u001b[1;33m=\u001b[0m \u001b[1;36m.50\u001b[0m\u001b[1;33m)\u001b[0m\u001b[1;33m.\u001b[0m\u001b[0misf\u001b[0m\u001b[1;33m(\u001b[0m\u001b[0mx\u001b[0m\u001b[1;33m=\u001b[0m\u001b[0mnp\u001b[0m\u001b[1;33m.\u001b[0m\u001b[0marange\u001b[0m\u001b[1;33m(\u001b[0m\u001b[1;36m0\u001b[0m\u001b[1;33m,\u001b[0m\u001b[1;36m1\u001b[0m\u001b[1;33m,\u001b[0m \u001b[1;36m.01\u001b[0m\u001b[1;33m)\u001b[0m\u001b[1;33m)\u001b[0m\u001b[1;33m\u001b[0m\u001b[0m\n\u001b[0m\u001b[0;32m      3\u001b[0m \u001b[1;33m\u001b[0m\u001b[0m\n",
      "\u001b[1;31mTypeError\u001b[0m: isf() got an unexpected keyword argument 'x'"
     ]
    }
   ],
   "source": [
    "import numpy as np\n",
    "\n",
    "scipy.stats.binom(n = 10, p = .50).isf(x=np.arange(0,1, .01))\n",
    "\n"
   ]
  },
  {
   "cell_type": "code",
   "execution_count": null,
   "metadata": {
    "collapsed": true
   },
   "outputs": [],
   "source": []
  },
  {
   "cell_type": "code",
   "execution_count": null,
   "metadata": {
    "collapsed": true
   },
   "outputs": [],
   "source": []
  },
  {
   "cell_type": "code",
   "execution_count": null,
   "metadata": {
    "collapsed": true
   },
   "outputs": [],
   "source": [
    "def Stouffer_test(p, w=None):\n",
    "    if w:\n",
    "        pass\n",
    "    else:\n",
    "        w <- [1.0/len(p)] * len(p)\n",
    "    print(w)\n",
    "        \n",
    "    if len(w) != len(p)\n",
    "      break \"Length of p and w must equal!\"\n",
    "  \n",
    "    Zi <- qnorm(1-p) \n",
    "    Z  <- sum(w*Zi)/sqrt(sum(w^2))\n",
    "    p.val <- 1-pnorm(Z)\n",
    "    return(c(Z = Z, p.value = p.val))\n",
    "}"
   ]
  },
  {
   "cell_type": "code",
   "execution_count": 5,
   "metadata": {
    "collapsed": false
   },
   "outputs": [
    {
     "ename": "NameError",
     "evalue": "name 'seq' is not defined",
     "output_type": "error",
     "traceback": [
      "\u001b[1;31m---------------------------------------------------------------------------\u001b[0m",
      "\u001b[1;31mNameError\u001b[0m                                 Traceback (most recent call last)",
      "\u001b[1;32m<ipython-input-5-e0d2ce17b276>\u001b[0m in \u001b[0;36m<module>\u001b[1;34m()\u001b[0m\n\u001b[1;32m----> 1\u001b[1;33m \u001b[0mseq\u001b[0m\u001b[1;33m(\u001b[0m\u001b[1;36m1\u001b[0m\u001b[1;33m,\u001b[0m\u001b[1;36m10\u001b[0m\u001b[1;33m)\u001b[0m\u001b[1;33m\u001b[0m\u001b[0m\n\u001b[0m",
      "\u001b[1;31mNameError\u001b[0m: name 'seq' is not defined"
     ]
    }
   ],
   "source": [
    "#### In case 2 we can simply add up all the observation of the 'A' alelle and all observations of the 'B' allele and run a binomial test."
   ]
  }
 ],
 "metadata": {
  "kernelspec": {
   "display_name": "Python 2",
   "language": "python",
   "name": "python2"
  },
  "language_info": {
   "codemirror_mode": {
    "name": "ipython",
    "version": 2
   },
   "file_extension": ".py",
   "mimetype": "text/x-python",
   "name": "python",
   "nbconvert_exporter": "python",
   "pygments_lexer": "ipython2",
   "version": "2.7.10"
  }
 },
 "nbformat": 4,
 "nbformat_minor": 0
}
