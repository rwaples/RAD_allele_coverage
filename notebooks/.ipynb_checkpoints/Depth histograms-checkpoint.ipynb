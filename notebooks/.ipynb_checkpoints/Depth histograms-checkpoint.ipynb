{
 "cells": [
  {
   "cell_type": "code",
   "execution_count": 37,
   "metadata": {
    "collapsed": true
   },
   "outputs": [],
   "source": [
    "import gzip\n",
    "import scipy.stats\n",
    "import pandas as pd\n",
    "import numpy as np\n",
    "import matplotlib.pyplot as plt\n",
    "import seaborn as sns\n",
    "import statsmodels\n",
    "import numpy as np\n",
    "import os.path\n",
    "from IPython.core.pylabtools import figsize\n",
    "%matplotlib inline\n",
    "sns.set_style(\"white\")"
   ]
  },
  {
   "cell_type": "code",
   "execution_count": 16,
   "metadata": {
    "collapsed": false
   },
   "outputs": [],
   "source": [
    "def vcf_to_allele_depth_by_ind_incl_homo(vcf_file, out_file):\n",
    "    if vcf_file.endswith('.gz'):\n",
    "        opener = gzip.open\n",
    "    else:\n",
    "        opener = open\n",
    "    with opener(vcf_file) as INFILE:\n",
    "        with open(out_file, 'w') as OUTFILE:\n",
    "            OUTFILE.write('contig\\tpos\\tlocus_ID\\tind\\tdepth_a\\tdepth_b\\tcall\\n')\n",
    "            header_lines = 0\n",
    "            for line in INFILE:\n",
    "                if line.startswith('##'):\n",
    "                    header_lines += 1\n",
    "                elif line.startswith('#CHROM'):\n",
    "                    print 'skipped {} header lines'.format(header_lines)\n",
    "                    header = line.strip().strip('#').split('\\t')\n",
    "                    inds = header[9:]\n",
    "                    print 'found {} individuals'.format(len(inds))\n",
    "                else:\n",
    "                    tabs = line.split('\\t')\n",
    "                    contig = tabs[0]\n",
    "                    pos = tabs[1]\n",
    "                    locus_ID = tabs[2]\n",
    "                    genotypes = tabs[9:]\n",
    "                    depth_a_of_ind = dict()\n",
    "                    depth_b_of_ind = dict()\n",
    "                    for gen_idx, gen in enumerate(genotypes):\n",
    "                        if gen.split(':')[0] in ['1/0', '0/1', '1/1', '0/0']:\n",
    "                            call = gen.split(':')[0]\n",
    "                            depth_a = int(gen.split(':')[2].split(',')[0])\n",
    "                            depth_b = int(gen.split(':')[2].split(',')[1])\n",
    "                            #std = scipy.stats.binom(n = depth_a + depth_b, p = .5).std()\n",
    "                            #z = ((depth_a + depth_b)/2. - depth_a)/ -std          \n",
    "                            OUTFILE.write('{}\\t{}\\t{}\\t{}\\t{}\\t{}\\t{}\\n'.format(\n",
    "                                    contig, pos, locus_ID, inds[gen_idx], depth_a, depth_b, call))"
   ]
  },
  {
   "cell_type": "code",
   "execution_count": 17,
   "metadata": {
    "collapsed": false
   },
   "outputs": [
    {
     "name": "stdout",
     "output_type": "stream",
     "text": [
      "../data/chinook.bay_pops.vcf.gz\n",
      "/home/ipseg/Desktop/waples/temp/RAD_allele depth/chin.ind.depth\n"
     ]
    }
   ],
   "source": [
    "chin_vcf_file = os.path.join('..', 'data', 'chinook.bay_pops.vcf.gz')\n",
    "print chin_vcf_file\n",
    "chin_depths_file = '/home/ipseg/Desktop/waples/temp/RAD_allele depth/chin.ind.depth'\n",
    "print chin_depths_file"
   ]
  },
  {
   "cell_type": "code",
   "execution_count": 18,
   "metadata": {
    "collapsed": false
   },
   "outputs": [
    {
     "name": "stdout",
     "output_type": "stream",
     "text": [
      "skipped 9 header lines\n",
      "found 192 individuals\n"
     ]
    }
   ],
   "source": [
    "vcf_to_allele_depth_by_ind_incl_homo(chin_vcf_file, chin_depths_file)"
   ]
  },
  {
   "cell_type": "code",
   "execution_count": 22,
   "metadata": {
    "collapsed": false
   },
   "outputs": [
    {
     "data": {
      "text/html": [
       "<div>\n",
       "<table border=\"1\" class=\"dataframe\">\n",
       "  <thead>\n",
       "    <tr style=\"text-align: right;\">\n",
       "      <th></th>\n",
       "      <th>contig</th>\n",
       "      <th>pos</th>\n",
       "      <th>locus_ID</th>\n",
       "      <th>ind</th>\n",
       "      <th>depth_a</th>\n",
       "      <th>depth_b</th>\n",
       "      <th>call</th>\n",
       "    </tr>\n",
       "  </thead>\n",
       "  <tbody>\n",
       "    <tr>\n",
       "      <th>0</th>\n",
       "      <td>un</td>\n",
       "      <td>44</td>\n",
       "      <td>10</td>\n",
       "      <td>KKANE05_0001</td>\n",
       "      <td>0</td>\n",
       "      <td>26</td>\n",
       "      <td>1/1</td>\n",
       "    </tr>\n",
       "    <tr>\n",
       "      <th>1</th>\n",
       "      <td>un</td>\n",
       "      <td>44</td>\n",
       "      <td>10</td>\n",
       "      <td>KKANE05_0002</td>\n",
       "      <td>3</td>\n",
       "      <td>2</td>\n",
       "      <td>1/0</td>\n",
       "    </tr>\n",
       "    <tr>\n",
       "      <th>2</th>\n",
       "      <td>un</td>\n",
       "      <td>44</td>\n",
       "      <td>10</td>\n",
       "      <td>KKANE05_0003</td>\n",
       "      <td>6</td>\n",
       "      <td>5</td>\n",
       "      <td>1/0</td>\n",
       "    </tr>\n",
       "    <tr>\n",
       "      <th>3</th>\n",
       "      <td>un</td>\n",
       "      <td>44</td>\n",
       "      <td>10</td>\n",
       "      <td>KKANE05_0004</td>\n",
       "      <td>12</td>\n",
       "      <td>4</td>\n",
       "      <td>1/0</td>\n",
       "    </tr>\n",
       "    <tr>\n",
       "      <th>4</th>\n",
       "      <td>un</td>\n",
       "      <td>44</td>\n",
       "      <td>10</td>\n",
       "      <td>KKANE05_0005</td>\n",
       "      <td>8</td>\n",
       "      <td>12</td>\n",
       "      <td>1/0</td>\n",
       "    </tr>\n",
       "  </tbody>\n",
       "</table>\n",
       "</div>"
      ],
      "text/plain": [
       "  contig  pos  locus_ID           ind  depth_a  depth_b call\n",
       "0     un   44        10  KKANE05_0001        0       26  1/1\n",
       "1     un   44        10  KKANE05_0002        3        2  1/0\n",
       "2     un   44        10  KKANE05_0003        6        5  1/0\n",
       "3     un   44        10  KKANE05_0004       12        4  1/0\n",
       "4     un   44        10  KKANE05_0005        8       12  1/0"
      ]
     },
     "execution_count": 22,
     "metadata": {},
     "output_type": "execute_result"
    }
   ],
   "source": [
    "chin_depth_df = pd.read_csv(chin_depths_file, header=0, sep = '\\t')\n",
    "chin_depth_df.head()"
   ]
  },
  {
   "cell_type": "markdown",
   "metadata": {},
   "source": [
    "### Read in file of giving duplicate status (based on map):\n",
    "   - 0 = unknown\n",
    "   - 1 = non-duplicated\n",
    "   - 2 = duplicated"
   ]
  },
  {
   "cell_type": "code",
   "execution_count": 23,
   "metadata": {
    "collapsed": false
   },
   "outputs": [
    {
     "data": {
      "text/html": [
       "<div>\n",
       "<table border=\"1\" class=\"dataframe\">\n",
       "  <thead>\n",
       "    <tr style=\"text-align: right;\">\n",
       "      <th></th>\n",
       "      <th>locus_ID</th>\n",
       "      <th>Duplicate</th>\n",
       "    </tr>\n",
       "  </thead>\n",
       "  <tbody>\n",
       "    <tr>\n",
       "      <th>0</th>\n",
       "      <td>85492</td>\n",
       "      <td>0</td>\n",
       "    </tr>\n",
       "    <tr>\n",
       "      <th>1</th>\n",
       "      <td>60449</td>\n",
       "      <td>0</td>\n",
       "    </tr>\n",
       "    <tr>\n",
       "      <th>2</th>\n",
       "      <td>44557</td>\n",
       "      <td>0</td>\n",
       "    </tr>\n",
       "    <tr>\n",
       "      <th>3</th>\n",
       "      <td>23753</td>\n",
       "      <td>1</td>\n",
       "    </tr>\n",
       "    <tr>\n",
       "      <th>4</th>\n",
       "      <td>11439</td>\n",
       "      <td>0</td>\n",
       "    </tr>\n",
       "  </tbody>\n",
       "</table>\n",
       "</div>"
      ],
      "text/plain": [
       "   locus_ID  Duplicate\n",
       "0     85492          0\n",
       "1     60449          0\n",
       "2     44557          0\n",
       "3     23753          1\n",
       "4     11439          0"
      ]
     },
     "execution_count": 23,
     "metadata": {},
     "output_type": "execute_result"
    }
   ],
   "source": [
    "chin_duplicate_status = pd.read_csv(os.path.join('..', 'data', 'chinook_DuplicateStatus.txt'), sep = '\\t', header = 0)\n",
    "chin_duplicate_status.columns = ['locus_ID', 'Duplicate']\n",
    "chin_duplicate_status.head()"
   ]
  },
  {
   "cell_type": "code",
   "execution_count": 25,
   "metadata": {
    "collapsed": false
   },
   "outputs": [],
   "source": [
    "chin_depth_df = pd.merge(chin_depth_df, chin_duplicate_status)"
   ]
  },
  {
   "cell_type": "code",
   "execution_count": 27,
   "metadata": {
    "collapsed": false
   },
   "outputs": [
    {
     "data": {
      "text/html": [
       "<div>\n",
       "<table border=\"1\" class=\"dataframe\">\n",
       "  <thead>\n",
       "    <tr style=\"text-align: right;\">\n",
       "      <th></th>\n",
       "      <th>contig</th>\n",
       "      <th>pos</th>\n",
       "      <th>locus_ID</th>\n",
       "      <th>ind</th>\n",
       "      <th>depth_a</th>\n",
       "      <th>depth_b</th>\n",
       "      <th>call</th>\n",
       "      <th>Duplicate</th>\n",
       "    </tr>\n",
       "  </thead>\n",
       "  <tbody>\n",
       "    <tr>\n",
       "      <th>0</th>\n",
       "      <td>un</td>\n",
       "      <td>44</td>\n",
       "      <td>10</td>\n",
       "      <td>KKANE05_0001</td>\n",
       "      <td>0</td>\n",
       "      <td>26</td>\n",
       "      <td>1/1</td>\n",
       "      <td>0</td>\n",
       "    </tr>\n",
       "    <tr>\n",
       "      <th>1</th>\n",
       "      <td>un</td>\n",
       "      <td>44</td>\n",
       "      <td>10</td>\n",
       "      <td>KKANE05_0002</td>\n",
       "      <td>3</td>\n",
       "      <td>2</td>\n",
       "      <td>1/0</td>\n",
       "      <td>0</td>\n",
       "    </tr>\n",
       "    <tr>\n",
       "      <th>2</th>\n",
       "      <td>un</td>\n",
       "      <td>44</td>\n",
       "      <td>10</td>\n",
       "      <td>KKANE05_0003</td>\n",
       "      <td>6</td>\n",
       "      <td>5</td>\n",
       "      <td>1/0</td>\n",
       "      <td>0</td>\n",
       "    </tr>\n",
       "    <tr>\n",
       "      <th>3</th>\n",
       "      <td>un</td>\n",
       "      <td>44</td>\n",
       "      <td>10</td>\n",
       "      <td>KKANE05_0004</td>\n",
       "      <td>12</td>\n",
       "      <td>4</td>\n",
       "      <td>1/0</td>\n",
       "      <td>0</td>\n",
       "    </tr>\n",
       "    <tr>\n",
       "      <th>4</th>\n",
       "      <td>un</td>\n",
       "      <td>44</td>\n",
       "      <td>10</td>\n",
       "      <td>KKANE05_0005</td>\n",
       "      <td>8</td>\n",
       "      <td>12</td>\n",
       "      <td>1/0</td>\n",
       "      <td>0</td>\n",
       "    </tr>\n",
       "  </tbody>\n",
       "</table>\n",
       "</div>"
      ],
      "text/plain": [
       "  contig  pos  locus_ID           ind  depth_a  depth_b call  Duplicate\n",
       "0     un   44        10  KKANE05_0001        0       26  1/1          0\n",
       "1     un   44        10  KKANE05_0002        3        2  1/0          0\n",
       "2     un   44        10  KKANE05_0003        6        5  1/0          0\n",
       "3     un   44        10  KKANE05_0004       12        4  1/0          0\n",
       "4     un   44        10  KKANE05_0005        8       12  1/0          0"
      ]
     },
     "execution_count": 27,
     "metadata": {},
     "output_type": "execute_result"
    }
   ],
   "source": [
    "chin_depth_df.head()"
   ]
  },
  {
   "cell_type": "markdown",
   "metadata": {},
   "source": [
    "## summary stats\n"
   ]
  },
  {
   "cell_type": "code",
   "execution_count": 29,
   "metadata": {
    "collapsed": true
   },
   "outputs": [],
   "source": [
    "chin_depth_df['total_depth'] = chin_depth_df['depth_a'] + chin_depth_df['depth_b']"
   ]
  },
  {
   "cell_type": "code",
   "execution_count": 48,
   "metadata": {
    "collapsed": false,
    "scrolled": true
   },
   "outputs": [
    {
     "data": {
      "image/png": "[encoded data removed]",
      "text/plain": [
       "<matplotlib.figure.Figure at 0x7f82a62bb490>"
      ]
     },
     "metadata": {},
     "output_type": "display_data"
    }
   ],
   "source": [
    "total_depth_per_locus = chin_depth_df.groupby(['locus_ID']).sum()['total_depth']\n",
    "plt.hist(total_depth_per_locus, bins = 100)\n",
    "plt.title(\"total depth per locus\")\n",
    "plt.show()"
   ]
  },
  {
   "cell_type": "code",
   "execution_count": 49,
   "metadata": {
    "collapsed": false,
    "scrolled": false
   },
   "outputs": [
    {
     "data": {
      "image/png": "[encoded data removed]",
      "text/plain": [
       "<matplotlib.figure.Figure at 0x7f82a5c79a50>"
      ]
     },
     "metadata": {},
     "output_type": "display_data"
    }
   ],
   "source": [
    "genotypes_per_locus = chin_depth_df.groupby(['locus_ID']).count()['total_depth']\n",
    "plt.hist(genotypes_per_locus, bins = 25)\n",
    "plt.title(\"# genotypes per locus\")\n",
    "plt.show()"
   ]
  },
  {
   "cell_type": "code",
   "execution_count": 54,
   "metadata": {
    "collapsed": false,
    "scrolled": true
   },
   "outputs": [
    {
     "data": {
      "image/png": "[encoded data removed]",
      "text/plain": [
       "<matplotlib.figure.Figure at 0x7f82a5b64390>"
      ]
     },
     "metadata": {},
     "output_type": "display_data"
    }
   ],
   "source": [
    "mean_depth_per_locus = total_depth_per_locus/genotypes_per_locus\n",
    "plt.hist(mean_depth_per_locus, bins = 100)\n",
    "plt.title(\"mean depth per locus\")\n",
    "plt.show()"
   ]
  },
  {
   "cell_type": "code",
   "execution_count": 72,
   "metadata": {
    "collapsed": false
   },
   "outputs": [
    {
     "data": {
      "text/html": [
       "<div>\n",
       "<table border=\"1\" class=\"dataframe\">\n",
       "  <thead>\n",
       "    <tr style=\"text-align: right;\">\n",
       "      <th></th>\n",
       "      <th>mean_depth</th>\n",
       "    </tr>\n",
       "    <tr>\n",
       "      <th>locus_ID</th>\n",
       "      <th></th>\n",
       "    </tr>\n",
       "  </thead>\n",
       "  <tbody>\n",
       "    <tr>\n",
       "      <th>10</th>\n",
       "      <td>19.235955</td>\n",
       "    </tr>\n",
       "    <tr>\n",
       "      <th>11</th>\n",
       "      <td>17.803468</td>\n",
       "    </tr>\n",
       "    <tr>\n",
       "      <th>14</th>\n",
       "      <td>16.297872</td>\n",
       "    </tr>\n",
       "    <tr>\n",
       "      <th>15</th>\n",
       "      <td>35.216216</td>\n",
       "    </tr>\n",
       "    <tr>\n",
       "      <th>17</th>\n",
       "      <td>9.636364</td>\n",
       "    </tr>\n",
       "  </tbody>\n",
       "</table>\n",
       "</div>"
      ],
      "text/plain": [
       "          mean_depth\n",
       "locus_ID            \n",
       "10         19.235955\n",
       "11         17.803468\n",
       "14         16.297872\n",
       "15         35.216216\n",
       "17          9.636364"
      ]
     },
     "execution_count": 72,
     "metadata": {},
     "output_type": "execute_result"
    }
   ],
   "source": [
    "mean_depth_per_locus_df = pd.DataFrame(mean_depth_per_locus)\n",
    "mean_depth_per_locus_df.columns = ['mean_depth']\n",
    "mean_depth_per_locus_df.head()"
   ]
  },
  {
   "cell_type": "code",
   "execution_count": 74,
   "metadata": {
    "collapsed": false
   },
   "outputs": [],
   "source": [
    "mean_depth_per_locus_df = pd.merge(mean_depth_per_locus_df, chin_duplicate_status, left_index = True, right_on = 'locus_ID')"
   ]
  },
  {
   "cell_type": "code",
   "execution_count": 75,
   "metadata": {
    "collapsed": false
   },
   "outputs": [
    {
     "data": {
      "text/html": [
       "<div>\n",
       "<table border=\"1\" class=\"dataframe\">\n",
       "  <thead>\n",
       "    <tr style=\"text-align: right;\">\n",
       "      <th></th>\n",
       "      <th>mean_depth</th>\n",
       "      <th>locus_ID</th>\n",
       "      <th>Duplicate</th>\n",
       "    </tr>\n",
       "  </thead>\n",
       "  <tbody>\n",
       "    <tr>\n",
       "      <th>6417</th>\n",
       "      <td>19.235955</td>\n",
       "      <td>10</td>\n",
       "      <td>0</td>\n",
       "    </tr>\n",
       "    <tr>\n",
       "      <th>17721</th>\n",
       "      <td>17.803468</td>\n",
       "      <td>11</td>\n",
       "      <td>0</td>\n",
       "    </tr>\n",
       "    <tr>\n",
       "      <th>2905</th>\n",
       "      <td>16.297872</td>\n",
       "      <td>14</td>\n",
       "      <td>1</td>\n",
       "    </tr>\n",
       "    <tr>\n",
       "      <th>12017</th>\n",
       "      <td>35.216216</td>\n",
       "      <td>15</td>\n",
       "      <td>2</td>\n",
       "    </tr>\n",
       "    <tr>\n",
       "      <th>17145</th>\n",
       "      <td>9.636364</td>\n",
       "      <td>17</td>\n",
       "      <td>0</td>\n",
       "    </tr>\n",
       "  </tbody>\n",
       "</table>\n",
       "</div>"
      ],
      "text/plain": [
       "       mean_depth  locus_ID  Duplicate\n",
       "6417    19.235955        10          0\n",
       "17721   17.803468        11          0\n",
       "2905    16.297872        14          1\n",
       "12017   35.216216        15          2\n",
       "17145    9.636364        17          0"
      ]
     },
     "execution_count": 75,
     "metadata": {},
     "output_type": "execute_result"
    }
   ],
   "source": [
    "mean_depth_per_locus_df.head()"
   ]
  },
  {
   "cell_type": "code",
   "execution_count": 85,
   "metadata": {
    "collapsed": false
   },
   "outputs": [
    {
     "data": {
      "image/png": "[encoded data removed]",
      "text/plain": [
       "<matplotlib.figure.Figure at 0x7f8293d7e6d0>"
      ]
     },
     "metadata": {},
     "output_type": "display_data"
    },
    {
     "data": {
      "image/png": "[encoded data removed]",
      "text/plain": [
       "<matplotlib.figure.Figure at 0x7f82a62a3150>"
      ]
     },
     "metadata": {},
     "output_type": "display_data"
    }
   ],
   "source": [
    "bins = np.linspace(0, 100, 50)\n",
    "plt.hist(mean_depth_per_locus_df[mean_depth_per_locus_df['Duplicate'] == 0]['mean_depth'], bins = bins, alpha = .5, color = 'green')\n",
    "plt.show()\n",
    "plt.hist(mean_depth_per_locus_df[mean_depth_per_locus_df['Duplicate'] == 1]['mean_depth'], bins = bins, alpha = .5, color = 'blue')\n",
    "plt.hist(mean_depth_per_locus_df[mean_depth_per_locus_df['Duplicate'] == 2]['mean_depth'], bins = bins, alpha = .5, color = 'red')\n",
    "plt.show()"
   ]
  },
  {
   "cell_type": "markdown",
   "metadata": {},
   "source": [
    "# chum"
   ]
  },
  {
   "cell_type": "code",
   "execution_count": 89,
   "metadata": {
    "collapsed": false
   },
   "outputs": [
    {
     "name": "stdout",
     "output_type": "stream",
     "text": [
      "../data/chum.batch4.vcf.gz\n",
      "/home/ipseg/Desktop/waples/temp/RAD_allele depth/chum.ind.depth\n"
     ]
    }
   ],
   "source": [
    "chum_vcf_file = os.path.join('..', 'data', 'chum.batch4.vcf.gz')\n",
    "print chum_vcf_file\n",
    "chum_depths_file = '/home/ipseg/Desktop/waples/temp/RAD_allele depth/chum.ind.depth'\n",
    "print chum_depths_file\n",
    "\n",
    "\n"
   ]
  },
  {
   "cell_type": "code",
   "execution_count": 90,
   "metadata": {
    "collapsed": false
   },
   "outputs": [
    {
     "name": "stdout",
     "output_type": "stream",
     "text": [
      "skipped 9 header lines\n",
      "found 200 individuals\n"
     ]
    }
   ],
   "source": [
    "vcf_to_allele_depth_by_ind_incl_homo(chum_vcf_file, chum_depths_file)"
   ]
  },
  {
   "cell_type": "code",
   "execution_count": 95,
   "metadata": {
    "collapsed": false
   },
   "outputs": [
    {
     "name": "stdout",
     "output_type": "stream",
     "text": [
      "(5053864, 7)\n"
     ]
    },
    {
     "data": {
      "text/html": [
       "<div>\n",
       "<table border=\"1\" class=\"dataframe\">\n",
       "  <thead>\n",
       "    <tr style=\"text-align: right;\">\n",
       "      <th></th>\n",
       "      <th>contig</th>\n",
       "      <th>pos</th>\n",
       "      <th>locus_ID</th>\n",
       "      <th>ind</th>\n",
       "      <th>depth_a</th>\n",
       "      <th>depth_b</th>\n",
       "      <th>call</th>\n",
       "    </tr>\n",
       "  </thead>\n",
       "  <tbody>\n",
       "    <tr>\n",
       "      <th>0</th>\n",
       "      <td>c1000</td>\n",
       "      <td>75</td>\n",
       "      <td>7</td>\n",
       "      <td>CMHAMM10_0002</td>\n",
       "      <td>4</td>\n",
       "      <td>1</td>\n",
       "      <td>0/1</td>\n",
       "    </tr>\n",
       "    <tr>\n",
       "      <th>1</th>\n",
       "      <td>c1000</td>\n",
       "      <td>75</td>\n",
       "      <td>7</td>\n",
       "      <td>CMHAMM10_0005</td>\n",
       "      <td>2</td>\n",
       "      <td>1</td>\n",
       "      <td>0/1</td>\n",
       "    </tr>\n",
       "    <tr>\n",
       "      <th>2</th>\n",
       "      <td>c1000</td>\n",
       "      <td>75</td>\n",
       "      <td>7</td>\n",
       "      <td>CMHAMM10_0008</td>\n",
       "      <td>19</td>\n",
       "      <td>1</td>\n",
       "      <td>0/1</td>\n",
       "    </tr>\n",
       "    <tr>\n",
       "      <th>3</th>\n",
       "      <td>c1000</td>\n",
       "      <td>75</td>\n",
       "      <td>7</td>\n",
       "      <td>CMHAMM10_0011</td>\n",
       "      <td>5</td>\n",
       "      <td>3</td>\n",
       "      <td>0/1</td>\n",
       "    </tr>\n",
       "    <tr>\n",
       "      <th>4</th>\n",
       "      <td>c1000</td>\n",
       "      <td>75</td>\n",
       "      <td>7</td>\n",
       "      <td>CMHAMM10_0012</td>\n",
       "      <td>19</td>\n",
       "      <td>27</td>\n",
       "      <td>0/1</td>\n",
       "    </tr>\n",
       "  </tbody>\n",
       "</table>\n",
       "</div>"
      ],
      "text/plain": [
       "  contig  pos  locus_ID            ind  depth_a  depth_b call\n",
       "0  c1000   75         7  CMHAMM10_0002        4        1  0/1\n",
       "1  c1000   75         7  CMHAMM10_0005        2        1  0/1\n",
       "2  c1000   75         7  CMHAMM10_0008       19        1  0/1\n",
       "3  c1000   75         7  CMHAMM10_0011        5        3  0/1\n",
       "4  c1000   75         7  CMHAMM10_0012       19       27  0/1"
      ]
     },
     "execution_count": 95,
     "metadata": {},
     "output_type": "execute_result"
    }
   ],
   "source": [
    "chum_depth_df = pd.read_csv(chum_depths_file, header=0, sep = '\\t')\n",
    "print chum_depth_df.shape\n",
    "chum_depth_df.head()"
   ]
  },
  {
   "cell_type": "markdown",
   "metadata": {},
   "source": [
    "## paralogs"
   ]
  },
  {
   "cell_type": "code",
   "execution_count": 93,
   "metadata": {
    "collapsed": false
   },
   "outputs": [
    {
     "data": {
      "text/html": [
       "<div>\n",
       "<table border=\"1\" class=\"dataframe\">\n",
       "  <thead>\n",
       "    <tr style=\"text-align: right;\">\n",
       "      <th></th>\n",
       "      <th>catID</th>\n",
       "      <th>contig</th>\n",
       "    </tr>\n",
       "  </thead>\n",
       "  <tbody>\n",
       "    <tr>\n",
       "      <th>0</th>\n",
       "      <td>4</td>\n",
       "      <td>c4</td>\n",
       "    </tr>\n",
       "    <tr>\n",
       "      <th>1</th>\n",
       "      <td>5</td>\n",
       "      <td>c5</td>\n",
       "    </tr>\n",
       "    <tr>\n",
       "      <th>2</th>\n",
       "      <td>15</td>\n",
       "      <td>c15</td>\n",
       "    </tr>\n",
       "    <tr>\n",
       "      <th>3</th>\n",
       "      <td>26</td>\n",
       "      <td>c26</td>\n",
       "    </tr>\n",
       "    <tr>\n",
       "      <th>4</th>\n",
       "      <td>32</td>\n",
       "      <td>c32</td>\n",
       "    </tr>\n",
       "  </tbody>\n",
       "</table>\n",
       "</div>"
      ],
      "text/plain": [
       "   catID contig\n",
       "0      4     c4\n",
       "1      5     c5\n",
       "2     15    c15\n",
       "3     26    c26\n",
       "4     32    c32"
      ]
     },
     "execution_count": 93,
     "metadata": {},
     "output_type": "execute_result"
    }
   ],
   "source": [
    "paralogs = pd.read_csv(os.path.join('..', 'data', 'chum_paralogs.txt'), header = None)\n",
    "paralogs.columns = ['catID']\n",
    "paralogs['contig'] = ['c{}'.format(xx) for xx in paralogs['catID']]\n",
    "paralogs.head()"
   ]
  },
  {
   "cell_type": "code",
   "execution_count": 101,
   "metadata": {
    "collapsed": false
   },
   "outputs": [],
   "source": [
    "mapped_paralogs = pd.merge(chum_depth_df, paralogs).drop_duplicates(['locus_ID', 'ind'])"
   ]
  },
  {
   "cell_type": "code",
   "execution_count": 87,
   "metadata": {
    "collapsed": false
   },
   "outputs": [
    {
     "data": {
      "text/html": [
       "<div>\n",
       "<table border=\"1\" class=\"dataframe\">\n",
       "  <thead>\n",
       "    <tr style=\"text-align: right;\">\n",
       "      <th></th>\n",
       "      <th>LG</th>\n",
       "      <th>stacks_SNP</th>\n",
       "      <th>junk1</th>\n",
       "      <th>junk2</th>\n",
       "      <th>locus_ID</th>\n",
       "    </tr>\n",
       "  </thead>\n",
       "  <tbody>\n",
       "    <tr>\n",
       "      <th>0</th>\n",
       "      <td>1</td>\n",
       "      <td>8315_6</td>\n",
       "      <td>0</td>\n",
       "      <td>6</td>\n",
       "      <td>8315</td>\n",
       "    </tr>\n",
       "    <tr>\n",
       "      <th>1</th>\n",
       "      <td>1</td>\n",
       "      <td>36304_6</td>\n",
       "      <td>0</td>\n",
       "      <td>6</td>\n",
       "      <td>36304</td>\n",
       "    </tr>\n",
       "    <tr>\n",
       "      <th>2</th>\n",
       "      <td>1</td>\n",
       "      <td>41478_6</td>\n",
       "      <td>0</td>\n",
       "      <td>6</td>\n",
       "      <td>41478</td>\n",
       "    </tr>\n",
       "    <tr>\n",
       "      <th>3</th>\n",
       "      <td>1</td>\n",
       "      <td>6516_7</td>\n",
       "      <td>0</td>\n",
       "      <td>7</td>\n",
       "      <td>6516</td>\n",
       "    </tr>\n",
       "    <tr>\n",
       "      <th>4</th>\n",
       "      <td>1</td>\n",
       "      <td>41929_7</td>\n",
       "      <td>0</td>\n",
       "      <td>7</td>\n",
       "      <td>41929</td>\n",
       "    </tr>\n",
       "  </tbody>\n",
       "</table>\n",
       "</div>"
      ],
      "text/plain": [
       "   LG stacks_SNP  junk1  junk2  locus_ID\n",
       "0   1     8315_6      0      6      8315\n",
       "1   1    36304_6      0      6     36304\n",
       "2   1    41478_6      0      6     41478\n",
       "3   1     6516_7      0      7      6516\n",
       "4   1    41929_7      0      7     41929"
      ]
     },
     "execution_count": 87,
     "metadata": {},
     "output_type": "execute_result"
    }
   ],
   "source": [
    "mapped_non_paralogs = pd.read_csv(os.path.join('..', 'data', 'chum_mapped_non_paralogs.map'), sep = '\\t', header = None)\n",
    "mapped_non_paralogs.columns = ['LG', 'stacks_SNP', 'junk1', 'junk2']\n",
    "mapped_non_paralogs['locus_ID'] = [int(xx.split('_')[0]) for xx in mapped_non_paralogs['stacks_SNP']]\n",
    "mapped_non_paralogs.head()"
   ]
  },
  {
   "cell_type": "code",
   "execution_count": 102,
   "metadata": {
    "collapsed": false
   },
   "outputs": [],
   "source": [
    "mapped_singles = pd.merge(chum_depth_df, mapped_non_paralogs).drop_duplicates(['locus_ID', 'ind'])"
   ]
  },
  {
   "cell_type": "markdown",
   "metadata": {},
   "source": [
    "## summary stats"
   ]
  },
  {
   "cell_type": "code",
   "execution_count": 104,
   "metadata": {
    "collapsed": false
   },
   "outputs": [],
   "source": [
    "mapped_paralogs['total_depth'] = mapped_paralogs['depth_a'] + mapped_paralogs['depth_b']\n",
    "mapped_singles['total_depth'] = mapped_singles['depth_a'] + mapped_singles['depth_b']"
   ]
  },
  {
   "cell_type": "code",
   "execution_count": 105,
   "metadata": {
    "collapsed": false,
    "scrolled": true
   },
   "outputs": [
    {
     "data": {
      "image/png": "[encoded data removed]",
      "text/plain": [
       "<matplotlib.figure.Figure at 0x7f82a54b0850>"
      ]
     },
     "metadata": {},
     "output_type": "display_data"
    }
   ],
   "source": [
    "total_depth_per_locus_paralogs = mapped_paralogs.groupby(['locus_ID']).sum()['total_depth']\n",
    "plt.hist(total_depth_per_locus_paralogs, bins = 100)\n",
    "plt.title(\"total depth per locus\")\n",
    "plt.show()"
   ]
  },
  {
   "cell_type": "code",
   "execution_count": 106,
   "metadata": {
    "collapsed": false
   },
   "outputs": [
    {
     "data": {
      "image/png": "[encoded data removed]",
      "text/plain": [
       "<matplotlib.figure.Figure at 0x7f82b8fb1190>"
      ]
     },
     "metadata": {},
     "output_type": "display_data"
    }
   ],
   "source": [
    "total_depth_per_locus_singles = mapped_singles.groupby(['locus_ID']).sum()['total_depth']\n",
    "plt.hist(total_depth_per_locus_singles, bins = 100)\n",
    "plt.title(\"total depth per locus\")\n",
    "plt.show()"
   ]
  },
  {
   "cell_type": "code",
   "execution_count": 107,
   "metadata": {
    "collapsed": false,
    "scrolled": false
   },
   "outputs": [
    {
     "data": {
      "image/png": "[encoded data removed]",
      "text/plain": [
       "<matplotlib.figure.Figure at 0x7f82a5d27490>"
      ]
     },
     "metadata": {},
     "output_type": "display_data"
    }
   ],
   "source": [
    "genotypes_per_locus_paralogs = mapped_paralogs.groupby(['locus_ID']).count()['total_depth']\n",
    "plt.hist(genotypes_per_locus_paralogs, bins = 25)\n",
    "plt.title(\"# genotypes per locus\")\n",
    "plt.show()"
   ]
  },
  {
   "cell_type": "code",
   "execution_count": 108,
   "metadata": {
    "collapsed": false
   },
   "outputs": [
    {
     "data": {
      "image/png": "[encoded data removed]",
      "text/plain": [
       "<matplotlib.figure.Figure at 0x7f82a5a90b10>"
      ]
     },
     "metadata": {},
     "output_type": "display_data"
    }
   ],
   "source": [
    "genotypes_per_locus_singles = mapped_singles.groupby(['locus_ID']).count()['total_depth']\n",
    "plt.hist(genotypes_per_locus_singles, bins = 25)\n",
    "plt.title(\"# genotypes per locus\")\n",
    "plt.show()"
   ]
  },
  {
   "cell_type": "code",
   "execution_count": 109,
   "metadata": {
    "collapsed": false,
    "scrolled": true
   },
   "outputs": [
    {
     "data": {
      "image/png": "[encoded data removed]",
      "text/plain": [
       "<matplotlib.figure.Figure at 0x7f82a5a906d0>"
      ]
     },
     "metadata": {},
     "output_type": "display_data"
    }
   ],
   "source": [
    "mean_depth_per_locus_paralogs = total_depth_per_locus_paralogs/genotypes_per_locus_paralogs\n",
    "plt.hist(mean_depth_per_locus_paralogs, bins = 100)\n",
    "plt.title(\"mean depth per locus\")\n",
    "plt.show()"
   ]
  },
  {
   "cell_type": "code",
   "execution_count": 112,
   "metadata": {
    "collapsed": false
   },
   "outputs": [
    {
     "data": {
      "image/png": "[encoded data removed]",
      "text/plain": [
       "<matplotlib.figure.Figure at 0x7f82a62ae250>"
      ]
     },
     "metadata": {},
     "output_type": "display_data"
    }
   ],
   "source": [
    "mean_depth_per_locus_singles = total_depth_per_locus_singles/genotypes_per_locus_singles\n",
    "plt.hist(mean_depth_per_locus_singles, bins = 100)\n",
    "plt.title(\"mean depth per locus\")\n",
    "plt.show()"
   ]
  },
  {
   "cell_type": "code",
   "execution_count": 114,
   "metadata": {
    "collapsed": false
   },
   "outputs": [
    {
     "data": {
      "image/png": "[encoded data removed]",
      "text/plain": [
       "<matplotlib.figure.Figure at 0x7f82a627bf50>"
      ]
     },
     "metadata": {},
     "output_type": "display_data"
    }
   ],
   "source": [
    "plt.hist(mean_depth_per_locus_singles, bins = bins, alpha = .5, color = 'blue')\n",
    "plt.hist(mean_depth_per_locus_paralogs, bins = bins, alpha = .5, color = 'red')\n",
    "plt.show()"
   ]
  }
 ],
 "metadata": {
  "kernelspec": {
   "display_name": "Python 2",
   "language": "python",
   "name": "python2"
  },
  "language_info": {
   "codemirror_mode": {
    "name": "ipython",
    "version": 2
   },
   "file_extension": ".py",
   "mimetype": "text/x-python",
   "name": "python",
   "nbconvert_exporter": "python",
   "pygments_lexer": "ipython2",
   "version": "2.7.11"
  }
 },
 "nbformat": 4,
 "nbformat_minor": 0
}
